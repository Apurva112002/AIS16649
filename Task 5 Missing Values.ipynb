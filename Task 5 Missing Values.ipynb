{
 "cells": [
  {
   "cell_type": "markdown",
   "id": "7be17e6c",
   "metadata": {},
   "source": [
    "### Isnull method:\n",
    "This method in pandas is used to show there is missing value"
   ]
  },
  {
   "cell_type": "code",
   "execution_count": 3,
   "id": "6f544e24",
   "metadata": {},
   "outputs": [
    {
     "data": {
      "text/html": [
       "<div>\n",
       "<style scoped>\n",
       "    .dataframe tbody tr th:only-of-type {\n",
       "        vertical-align: middle;\n",
       "    }\n",
       "\n",
       "    .dataframe tbody tr th {\n",
       "        vertical-align: top;\n",
       "    }\n",
       "\n",
       "    .dataframe thead th {\n",
       "        text-align: right;\n",
       "    }\n",
       "</style>\n",
       "<table border=\"1\" class=\"dataframe\">\n",
       "  <thead>\n",
       "    <tr style=\"text-align: right;\">\n",
       "      <th></th>\n",
       "      <th>A</th>\n",
       "      <th>B</th>\n",
       "      <th>C</th>\n",
       "    </tr>\n",
       "  </thead>\n",
       "  <tbody>\n",
       "    <tr>\n",
       "      <th>0</th>\n",
       "      <td>False</td>\n",
       "      <td>False</td>\n",
       "      <td>False</td>\n",
       "    </tr>\n",
       "    <tr>\n",
       "      <th>1</th>\n",
       "      <td>False</td>\n",
       "      <td>True</td>\n",
       "      <td>False</td>\n",
       "    </tr>\n",
       "    <tr>\n",
       "      <th>2</th>\n",
       "      <td>False</td>\n",
       "      <td>False</td>\n",
       "      <td>True</td>\n",
       "    </tr>\n",
       "    <tr>\n",
       "      <th>3</th>\n",
       "      <td>True</td>\n",
       "      <td>False</td>\n",
       "      <td>False</td>\n",
       "    </tr>\n",
       "  </tbody>\n",
       "</table>\n",
       "</div>"
      ],
      "text/plain": [
       "       A      B      C\n",
       "0  False  False  False\n",
       "1  False   True  False\n",
       "2  False  False   True\n",
       "3   True  False  False"
      ]
     },
     "execution_count": 3,
     "metadata": {},
     "output_type": "execute_result"
    }
   ],
   "source": [
    "import pandas as pd\n",
    "data={'A':[1,4,7,None],\n",
    "     'B':[2.0,None,8.0,1.0],\n",
    "     'C':[3.0,6.0,None,11.0]}\n",
    "df=pd.DataFrame(data)\n",
    "df.isnull()\n"
   ]
  },
  {
   "cell_type": "markdown",
   "id": "a0b28990",
   "metadata": {},
   "source": [
    "### Dropna method:\n",
    "This method is used to drop rows with any missing values from a dataframe"
   ]
  },
  {
   "cell_type": "code",
   "execution_count": 6,
   "id": "a2db3d7b",
   "metadata": {},
   "outputs": [
    {
     "data": {
      "text/html": [
       "<div>\n",
       "<style scoped>\n",
       "    .dataframe tbody tr th:only-of-type {\n",
       "        vertical-align: middle;\n",
       "    }\n",
       "\n",
       "    .dataframe tbody tr th {\n",
       "        vertical-align: top;\n",
       "    }\n",
       "\n",
       "    .dataframe thead th {\n",
       "        text-align: right;\n",
       "    }\n",
       "</style>\n",
       "<table border=\"1\" class=\"dataframe\">\n",
       "  <thead>\n",
       "    <tr style=\"text-align: right;\">\n",
       "      <th></th>\n",
       "      <th>A</th>\n",
       "      <th>B</th>\n",
       "      <th>C</th>\n",
       "    </tr>\n",
       "  </thead>\n",
       "  <tbody>\n",
       "    <tr>\n",
       "      <th>0</th>\n",
       "      <td>1.0</td>\n",
       "      <td>2.0</td>\n",
       "      <td>3.0</td>\n",
       "    </tr>\n",
       "  </tbody>\n",
       "</table>\n",
       "</div>"
      ],
      "text/plain": [
       "     A    B    C\n",
       "0  1.0  2.0  3.0"
      ]
     },
     "execution_count": 6,
     "metadata": {},
     "output_type": "execute_result"
    }
   ],
   "source": [
    "import pandas as pd\n",
    "data={'A':[1,4,7,None],\n",
    "     'B':[2.0,None,8.0,1.0],\n",
    "     'C':[3.0,6.0,None,11.0]}\n",
    "df=pd.DataFrame(data)\n",
    "df.dropna()"
   ]
  },
  {
   "cell_type": "markdown",
   "id": "ecaf1400",
   "metadata": {},
   "source": [
    "### Fillna Method:\n",
    "This method is used to fill missing values in dataFrame with specified value"
   ]
  },
  {
   "cell_type": "code",
   "execution_count": 7,
   "id": "dcde6c79",
   "metadata": {},
   "outputs": [
    {
     "data": {
      "text/html": [
       "<div>\n",
       "<style scoped>\n",
       "    .dataframe tbody tr th:only-of-type {\n",
       "        vertical-align: middle;\n",
       "    }\n",
       "\n",
       "    .dataframe tbody tr th {\n",
       "        vertical-align: top;\n",
       "    }\n",
       "\n",
       "    .dataframe thead th {\n",
       "        text-align: right;\n",
       "    }\n",
       "</style>\n",
       "<table border=\"1\" class=\"dataframe\">\n",
       "  <thead>\n",
       "    <tr style=\"text-align: right;\">\n",
       "      <th></th>\n",
       "      <th>A</th>\n",
       "      <th>B</th>\n",
       "      <th>C</th>\n",
       "    </tr>\n",
       "  </thead>\n",
       "  <tbody>\n",
       "    <tr>\n",
       "      <th>0</th>\n",
       "      <td>1.0</td>\n",
       "      <td>2.0</td>\n",
       "      <td>3.0</td>\n",
       "    </tr>\n",
       "    <tr>\n",
       "      <th>1</th>\n",
       "      <td>4.0</td>\n",
       "      <td>3.0</td>\n",
       "      <td>6.0</td>\n",
       "    </tr>\n",
       "    <tr>\n",
       "      <th>2</th>\n",
       "      <td>7.0</td>\n",
       "      <td>8.0</td>\n",
       "      <td>3.0</td>\n",
       "    </tr>\n",
       "    <tr>\n",
       "      <th>3</th>\n",
       "      <td>3.0</td>\n",
       "      <td>1.0</td>\n",
       "      <td>11.0</td>\n",
       "    </tr>\n",
       "  </tbody>\n",
       "</table>\n",
       "</div>"
      ],
      "text/plain": [
       "     A    B     C\n",
       "0  1.0  2.0   3.0\n",
       "1  4.0  3.0   6.0\n",
       "2  7.0  8.0   3.0\n",
       "3  3.0  1.0  11.0"
      ]
     },
     "execution_count": 7,
     "metadata": {},
     "output_type": "execute_result"
    }
   ],
   "source": [
    "import pandas as pd\n",
    "data={'A':[1,4,7,None],\n",
    "     'B':[2.0,None,8.0,1.0],\n",
    "     'C':[3.0,6.0,None,11.0]}\n",
    "df=pd.DataFrame(data)\n",
    "df.fillna(3)"
   ]
  },
  {
   "cell_type": "markdown",
   "id": "f011aa5f",
   "metadata": {},
   "source": [
    "### Interpolate Method:\n",
    "This method is used to fill missing values by interpolating between exsiting values."
   ]
  },
  {
   "cell_type": "code",
   "execution_count": 8,
   "id": "0f32661e",
   "metadata": {},
   "outputs": [
    {
     "data": {
      "text/html": [
       "<div>\n",
       "<style scoped>\n",
       "    .dataframe tbody tr th:only-of-type {\n",
       "        vertical-align: middle;\n",
       "    }\n",
       "\n",
       "    .dataframe tbody tr th {\n",
       "        vertical-align: top;\n",
       "    }\n",
       "\n",
       "    .dataframe thead th {\n",
       "        text-align: right;\n",
       "    }\n",
       "</style>\n",
       "<table border=\"1\" class=\"dataframe\">\n",
       "  <thead>\n",
       "    <tr style=\"text-align: right;\">\n",
       "      <th></th>\n",
       "      <th>A</th>\n",
       "      <th>B</th>\n",
       "      <th>C</th>\n",
       "    </tr>\n",
       "  </thead>\n",
       "  <tbody>\n",
       "    <tr>\n",
       "      <th>0</th>\n",
       "      <td>1.0</td>\n",
       "      <td>2.0</td>\n",
       "      <td>3.0</td>\n",
       "    </tr>\n",
       "    <tr>\n",
       "      <th>1</th>\n",
       "      <td>4.0</td>\n",
       "      <td>5.0</td>\n",
       "      <td>6.0</td>\n",
       "    </tr>\n",
       "    <tr>\n",
       "      <th>2</th>\n",
       "      <td>7.0</td>\n",
       "      <td>8.0</td>\n",
       "      <td>8.5</td>\n",
       "    </tr>\n",
       "    <tr>\n",
       "      <th>3</th>\n",
       "      <td>7.0</td>\n",
       "      <td>1.0</td>\n",
       "      <td>11.0</td>\n",
       "    </tr>\n",
       "  </tbody>\n",
       "</table>\n",
       "</div>"
      ],
      "text/plain": [
       "     A    B     C\n",
       "0  1.0  2.0   3.0\n",
       "1  4.0  5.0   6.0\n",
       "2  7.0  8.0   8.5\n",
       "3  7.0  1.0  11.0"
      ]
     },
     "execution_count": 8,
     "metadata": {},
     "output_type": "execute_result"
    }
   ],
   "source": [
    "import pandas as pd\n",
    "data={'A':[1,4,7,None],\n",
    "     'B':[2.0,None,8.0,1.0],\n",
    "     'C':[3.0,6.0,None,11.0]}\n",
    "df=pd.DataFrame(data)\n",
    "df.interpolate()"
   ]
  },
  {
   "cell_type": "markdown",
   "id": "9b550f5d",
   "metadata": {},
   "source": [
    "### Replace Methods:\n",
    "In this method is used to replace specific values in a DataFrame"
   ]
  },
  {
   "cell_type": "code",
   "execution_count": 11,
   "id": "59008a25",
   "metadata": {},
   "outputs": [
    {
     "data": {
      "text/html": [
       "<div>\n",
       "<style scoped>\n",
       "    .dataframe tbody tr th:only-of-type {\n",
       "        vertical-align: middle;\n",
       "    }\n",
       "\n",
       "    .dataframe tbody tr th {\n",
       "        vertical-align: top;\n",
       "    }\n",
       "\n",
       "    .dataframe thead th {\n",
       "        text-align: right;\n",
       "    }\n",
       "</style>\n",
       "<table border=\"1\" class=\"dataframe\">\n",
       "  <thead>\n",
       "    <tr style=\"text-align: right;\">\n",
       "      <th></th>\n",
       "      <th>A</th>\n",
       "      <th>B</th>\n",
       "      <th>C</th>\n",
       "    </tr>\n",
       "  </thead>\n",
       "  <tbody>\n",
       "    <tr>\n",
       "      <th>0</th>\n",
       "      <td>1.0</td>\n",
       "      <td>2.0</td>\n",
       "      <td>3.0</td>\n",
       "    </tr>\n",
       "    <tr>\n",
       "      <th>1</th>\n",
       "      <td>4.0</td>\n",
       "      <td>0.0</td>\n",
       "      <td>6.0</td>\n",
       "    </tr>\n",
       "    <tr>\n",
       "      <th>2</th>\n",
       "      <td>7.0</td>\n",
       "      <td>8.0</td>\n",
       "      <td>0.0</td>\n",
       "    </tr>\n",
       "    <tr>\n",
       "      <th>3</th>\n",
       "      <td>0.0</td>\n",
       "      <td>1.0</td>\n",
       "      <td>11.0</td>\n",
       "    </tr>\n",
       "  </tbody>\n",
       "</table>\n",
       "</div>"
      ],
      "text/plain": [
       "     A    B     C\n",
       "0  1.0  2.0   3.0\n",
       "1  4.0  0.0   6.0\n",
       "2  7.0  8.0   0.0\n",
       "3  0.0  1.0  11.0"
      ]
     },
     "execution_count": 11,
     "metadata": {},
     "output_type": "execute_result"
    }
   ],
   "source": [
    "import pandas as pd\n",
    "import numpy as np\n",
    "data={'A':[1,4,7,None],\n",
    "     'B':[2.0,None,8.0,1.0],\n",
    "     'C':[3.0,6.0,None,11.0]}\n",
    "df=pd.DataFrame(data)\n",
    "df.replace(np.nan,0)"
   ]
  },
  {
   "cell_type": "markdown",
   "id": "cf1bdf5e",
   "metadata": {},
   "source": [
    "### Drop Missing Values by Row :\n"
   ]
  },
  {
   "cell_type": "code",
   "execution_count": 12,
   "id": "aa3c8b07",
   "metadata": {},
   "outputs": [
    {
     "name": "stdout",
     "output_type": "stream",
     "text": [
      "     A    B\n",
      "0  1.0  5.0\n",
      "3  4.0  8.0\n"
     ]
    }
   ],
   "source": [
    "import pandas as pd\n",
    "data={'A':[1,2,None,4],\n",
    "     'B':[5,None,7,8]}\n",
    "df=pd.DataFrame(data)\n",
    "f=df.dropna(axis=0)\n",
    "print(f)"
   ]
  },
  {
   "cell_type": "markdown",
   "id": "2fd2b18d",
   "metadata": {},
   "source": [
    "### Drop Missing Values by Column :"
   ]
  },
  {
   "cell_type": "code",
   "execution_count": 13,
   "id": "9b6769c6",
   "metadata": {},
   "outputs": [
    {
     "name": "stdout",
     "output_type": "stream",
     "text": [
      "Empty DataFrame\n",
      "Columns: []\n",
      "Index: [0, 1, 2, 3]\n"
     ]
    }
   ],
   "source": [
    "import pandas as pd\n",
    "data={'A':[1,2,None,4],\n",
    "     'B':[5,None,7,8]}\n",
    "df=pd.DataFrame(data)\n",
    "f=df.dropna(axis=1)\n",
    "print(f)"
   ]
  },
  {
   "cell_type": "markdown",
   "id": "e902f8a0",
   "metadata": {},
   "source": [
    "### Fill Missing Value by Mean:"
   ]
  },
  {
   "cell_type": "code",
   "execution_count": 14,
   "id": "d69849e6",
   "metadata": {},
   "outputs": [
    {
     "name": "stdout",
     "output_type": "stream",
     "text": [
      "          A         B\n",
      "0  1.000000  5.000000\n",
      "1  2.000000  6.666667\n",
      "2  2.333333  7.000000\n",
      "3  4.000000  8.000000\n"
     ]
    }
   ],
   "source": [
    "import pandas as pd\n",
    "data={'A':[1,2,None,4],\n",
    "     'B':[5,None,7,8]}\n",
    "df=pd.DataFrame(data)\n",
    "df_fill_mean=df.fillna(df.mean())\n",
    "print(df_fill_mean)"
   ]
  },
  {
   "cell_type": "markdown",
   "id": "cc95ba9e",
   "metadata": {},
   "source": [
    "### Fill Missing Value by Median:"
   ]
  },
  {
   "cell_type": "code",
   "execution_count": 15,
   "id": "0e00ba5d",
   "metadata": {},
   "outputs": [
    {
     "name": "stdout",
     "output_type": "stream",
     "text": [
      "     A    B\n",
      "0  1.0  5.0\n",
      "1  2.0  7.0\n",
      "2  2.0  7.0\n",
      "3  4.0  8.0\n"
     ]
    }
   ],
   "source": [
    "import pandas as pd\n",
    "data={'A':[1,2,None,4],\n",
    "     'B':[5,None,7,8]}\n",
    "df=pd.DataFrame(data)\n",
    "df_fill_median=df.fillna(df.median())\n",
    "print(df_fill_median)"
   ]
  },
  {
   "cell_type": "markdown",
   "id": "3b392903",
   "metadata": {},
   "source": [
    "### Fill Missing Value by Mode:"
   ]
  },
  {
   "cell_type": "code",
   "execution_count": 19,
   "id": "8bd18611",
   "metadata": {},
   "outputs": [
    {
     "name": "stdout",
     "output_type": "stream",
     "text": [
      "     A    B\n",
      "0  1.0  5.0\n",
      "1  2.0  5.0\n",
      "2  1.0  7.0\n",
      "3  4.0  8.0\n"
     ]
    }
   ],
   "source": [
    "import pandas as pd\n",
    "data={'A':[1,2,None,4,],\n",
    "     'B':[5,None,7,8,]}\n",
    "df=pd.DataFrame(data)\n",
    "df_fill_mode=df.fillna(df.mode().iloc[0])\n",
    "print(df_fill_mode)"
   ]
  }
 ],
 "metadata": {
  "kernelspec": {
   "display_name": "Python 3 (ipykernel)",
   "language": "python",
   "name": "python3"
  },
  "language_info": {
   "codemirror_mode": {
    "name": "ipython",
    "version": 3
   },
   "file_extension": ".py",
   "mimetype": "text/x-python",
   "name": "python",
   "nbconvert_exporter": "python",
   "pygments_lexer": "ipython3",
   "version": "3.9.13"
  }
 },
 "nbformat": 4,
 "nbformat_minor": 5
}

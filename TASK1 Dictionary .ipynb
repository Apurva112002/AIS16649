{
 "cells": [
  {
   "cell_type": "code",
   "execution_count": null,
   "id": "70b5ba81",
   "metadata": {},
   "outputs": [],
   "source": [
    "#Dictionaries A) Dictionaries are used in key:value pairs B)IS in ordered C) Changeable D) DO not allow duplicates E)nit weritten in curly brackets"
   ]
  },
  {
   "cell_type": "code",
   "execution_count": 2,
   "id": "f9acdcf5",
   "metadata": {},
   "outputs": [
    {
     "name": "stdout",
     "output_type": "stream",
     "text": [
      "{'name': 'Apurva', 'rollno': 16649, 'sub': 'statistics'}\n"
     ]
    }
   ],
   "source": [
    "x={\"name\":\"Apurva\",             # key:value pairs and orderwise\n",
    "  'rollno':16649,\n",
    "   'sub':'statistics'}\n",
    "print(x)"
   ]
  },
  {
   "cell_type": "code",
   "execution_count": 3,
   "id": "2343a0b4",
   "metadata": {},
   "outputs": [
    {
     "name": "stdout",
     "output_type": "stream",
     "text": [
      "{'name': 'Apurva', 'rollno': 16649, 'sub': 'statistics'}\n"
     ]
    }
   ],
   "source": [
    "x={\"name\":\"Apurva\",          #DO not allow duplicates                   \n",
    "   'rollno':124,            \n",
    "  'rollno':16649,\n",
    "   'sub':'statistics'}\n",
    "print(x)"
   ]
  },
  {
   "cell_type": "code",
   "execution_count": 4,
   "id": "d0a6b488",
   "metadata": {},
   "outputs": [
    {
     "name": "stdout",
     "output_type": "stream",
     "text": [
      "{}\n"
     ]
    }
   ],
   "source": [
    "x={\"name\":\"Apurva\",       # CLear\n",
    "  'rollno':16649,\n",
    "   'sub':'statistics'}\n",
    "x.clear()\n",
    "print(x)\n"
   ]
  },
  {
   "cell_type": "code",
   "execution_count": 6,
   "id": "a46a5647",
   "metadata": {},
   "outputs": [
    {
     "name": "stdout",
     "output_type": "stream",
     "text": [
      "{'name': 'Apurva', 'rollno': 16649, 'sub': 'statistics'}\n"
     ]
    }
   ],
   "source": [
    "x={\"name\":\"Apurva\",       # Copy\n",
    "  'rollno':16649,\n",
    "   'sub':'statistics'}\n",
    "y=x.copy()\n",
    "print(y)\n"
   ]
  },
  {
   "cell_type": "code",
   "execution_count": 7,
   "id": "0ccea79b",
   "metadata": {},
   "outputs": [
    {
     "name": "stdout",
     "output_type": "stream",
     "text": [
      "statistics\n"
     ]
    }
   ],
   "source": [
    "x={\"name\":\"Apurva\",       #get() use  return the value of items with specified key\n",
    "  'rollno':16649,\n",
    "   'sub':'statistics'}\n",
    "y=x.get(\"sub\")\n",
    "print(y)\n"
   ]
  },
  {
   "cell_type": "code",
   "execution_count": 9,
   "id": "b66620e7",
   "metadata": {},
   "outputs": [
    {
     "name": "stdout",
     "output_type": "stream",
     "text": [
      "dict_keys(['name', 'rollno', 'sub'])\n"
     ]
    }
   ],
   "source": [
    "x={\"name\":\"Apurva\",       #Key() use  return a view object\n",
    "  'rollno':16649,\n",
    "   'sub':'statistics'}\n",
    "y=x.keys()\n",
    "print(y)\n"
   ]
  },
  {
   "cell_type": "code",
   "execution_count": 10,
   "id": "d97a8938",
   "metadata": {},
   "outputs": [
    {
     "name": "stdout",
     "output_type": "stream",
     "text": [
      "{'name': 'Apurva', 'rollno': 16649}\n"
     ]
    }
   ],
   "source": [
    "x={\"name\":\"Apurva\",       #popitem() use remove the last item from dictionary\n",
    "  'rollno':16649,\n",
    "   'sub':'statistics'}\n",
    "x.popitem()\n",
    "print(x)\n"
   ]
  },
  {
   "cell_type": "code",
   "execution_count": 12,
   "id": "e04aae95",
   "metadata": {},
   "outputs": [
    {
     "name": "stdout",
     "output_type": "stream",
     "text": [
      "{'name': 'Apurva', 'sub': 'statistics'}\n"
     ]
    }
   ],
   "source": [
    "x={\"name\":\"Apurva\",       #pop() use remove the keys item from dictionary\n",
    "  'rollno':16649,\n",
    "   'sub':'statistics'}\n",
    "x.pop('rollno')\n",
    "print(x)\n"
   ]
  },
  {
   "cell_type": "code",
   "execution_count": 13,
   "id": "3abeac9f",
   "metadata": {},
   "outputs": [
    {
     "name": "stdout",
     "output_type": "stream",
     "text": [
      "statistics\n"
     ]
    }
   ],
   "source": [
    "x={\"name\":\"Apurva\",       #setdefault() \n",
    "  'rollno':16649,\n",
    "   'sub':'statistics'}\n",
    "y=x.setdefault('sub','maths')\n",
    "print(y)"
   ]
  },
  {
   "cell_type": "code",
   "execution_count": 20,
   "id": "11c171ab",
   "metadata": {},
   "outputs": [
    {
     "name": "stdout",
     "output_type": "stream",
     "text": [
      "{'name': 'Apurva', 'rollno': 16649, 'sub': 'maths'}\n"
     ]
    }
   ],
   "source": [
    "x={\"name\":\"Apurva\",       #Update() \n",
    "  'rollno':16649,\n",
    "   'sub':'statistics'}\n",
    "x.update({'sub':'maths'})\n",
    "print(x)"
   ]
  },
  {
   "cell_type": "code",
   "execution_count": 22,
   "id": "5920a6e6",
   "metadata": {},
   "outputs": [
    {
     "name": "stdout",
     "output_type": "stream",
     "text": [
      "dict_values(['Apurva', 16649, 'statistics'])\n"
     ]
    }
   ],
   "source": [
    "x={\"name\":\"Apurva\",       #Values() \n",
    "  'rollno':16649,\n",
    "   'sub':'statistics'}\n",
    "y=x.values()\n",
    "print(y)"
   ]
  },
  {
   "cell_type": "code",
   "execution_count": null,
   "id": "8f47f2a5",
   "metadata": {},
   "outputs": [],
   "source": []
  },
  {
   "cell_type": "code",
   "execution_count": null,
   "id": "03441ed3",
   "metadata": {},
   "outputs": [],
   "source": []
  },
  {
   "cell_type": "code",
   "execution_count": null,
   "id": "88c8cdf5",
   "metadata": {},
   "outputs": [],
   "source": []
  },
  {
   "cell_type": "code",
   "execution_count": null,
   "id": "f619231e",
   "metadata": {},
   "outputs": [],
   "source": []
  },
  {
   "cell_type": "code",
   "execution_count": null,
   "id": "15821a13",
   "metadata": {},
   "outputs": [],
   "source": []
  },
  {
   "cell_type": "code",
   "execution_count": null,
   "id": "83be654e",
   "metadata": {},
   "outputs": [],
   "source": []
  },
  {
   "cell_type": "code",
   "execution_count": null,
   "id": "e77f5a6a",
   "metadata": {},
   "outputs": [],
   "source": []
  },
  {
   "cell_type": "code",
   "execution_count": null,
   "id": "769e4cd3",
   "metadata": {},
   "outputs": [],
   "source": []
  },
  {
   "cell_type": "code",
   "execution_count": null,
   "id": "123b3744",
   "metadata": {},
   "outputs": [],
   "source": []
  },
  {
   "cell_type": "code",
   "execution_count": null,
   "id": "3a8d0f50",
   "metadata": {},
   "outputs": [],
   "source": []
  },
  {
   "cell_type": "code",
   "execution_count": null,
   "id": "0db65b89",
   "metadata": {},
   "outputs": [],
   "source": []
  },
  {
   "cell_type": "code",
   "execution_count": null,
   "id": "a6779b91",
   "metadata": {},
   "outputs": [],
   "source": []
  }
 ],
 "metadata": {
  "kernelspec": {
   "display_name": "Python 3 (ipykernel)",
   "language": "python",
   "name": "python3"
  },
  "language_info": {
   "codemirror_mode": {
    "name": "ipython",
    "version": 3
   },
   "file_extension": ".py",
   "mimetype": "text/x-python",
   "name": "python",
   "nbconvert_exporter": "python",
   "pygments_lexer": "ipython3",
   "version": "3.9.13"
  }
 },
 "nbformat": 4,
 "nbformat_minor": 5
}

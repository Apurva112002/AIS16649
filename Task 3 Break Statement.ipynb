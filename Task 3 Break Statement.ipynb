{
 "cells": [
  {
   "cell_type": "markdown",
   "id": "eb945600",
   "metadata": {},
   "source": [
    "#### Break statement in python is used to permaturely exit loop.when the break statment is encountered whithin a loop(for loop or while loop) the loop is immediately terminated and the program execution continues ith the next statement after the loop."
   ]
  },
  {
   "cell_type": "code",
   "execution_count": 7,
   "id": "4bd66d3c",
   "metadata": {},
   "outputs": [
    {
     "name": "stdout",
     "output_type": "stream",
     "text": [
      "0\n",
      "1\n",
      "2\n",
      "3\n"
     ]
    }
   ],
   "source": [
    "for i in range(5):\n",
    "    print(i)\n",
    "    if i== 3:\n",
    "        break \n",
    "        "
   ]
  },
  {
   "cell_type": "code",
   "execution_count": null,
   "id": "93c7dd73",
   "metadata": {},
   "outputs": [],
   "source": [
    "count=0\n",
    "while count<5:\n",
    "    print(count)\n",
    "    if count==2:\n",
    "        break\n",
    "        count+=1"
   ]
  },
  {
   "cell_type": "code",
   "execution_count": 1,
   "id": "b5083775",
   "metadata": {},
   "outputs": [
    {
     "name": "stdout",
     "output_type": "stream",
     "text": [
      "10\n",
      "20\n",
      "30\n"
     ]
    }
   ],
   "source": [
    "number=[10,20,30,40,50]\n",
    "for i in number:\n",
    "    print(i)\n",
    "    if i==30:\n",
    "        break"
   ]
  }
 ],
 "metadata": {
  "kernelspec": {
   "display_name": "Python 3 (ipykernel)",
   "language": "python",
   "name": "python3"
  },
  "language_info": {
   "codemirror_mode": {
    "name": "ipython",
    "version": 3
   },
   "file_extension": ".py",
   "mimetype": "text/x-python",
   "name": "python",
   "nbconvert_exporter": "python",
   "pygments_lexer": "ipython3",
   "version": "3.9.13"
  }
 },
 "nbformat": 4,
 "nbformat_minor": 5
}

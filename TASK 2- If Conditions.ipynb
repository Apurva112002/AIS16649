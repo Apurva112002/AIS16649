{
 "cells": [
  {
   "cell_type": "markdown",
   "id": "ab45abf0",
   "metadata": {},
   "source": [
    "### if Statement in python use to make decisions. it has a body of instructions that anly executes whenever the if statements condition is met."
   ]
  },
  {
   "cell_type": "code",
   "execution_count": 1,
   "id": "93d30914",
   "metadata": {},
   "outputs": [
    {
     "name": "stdout",
     "output_type": "stream",
     "text": [
      "a is greater than b\n"
     ]
    }
   ],
   "source": [
    "a=6\n",
    "b=5\n",
    "if a>b:\n",
    "    print(\"a is greater than b\")"
   ]
  },
  {
   "cell_type": "code",
   "execution_count": 2,
   "id": "9db3a05f",
   "metadata": {},
   "outputs": [
    {
     "name": "stdout",
     "output_type": "stream",
     "text": [
      "Number is positive\n"
     ]
    }
   ],
   "source": [
    "number=10\n",
    "if number>0:\n",
    "    print(\"Number is positive\")"
   ]
  },
  {
   "cell_type": "code",
   "execution_count": 3,
   "id": "0ac5a90a",
   "metadata": {},
   "outputs": [
    {
     "name": "stdout",
     "output_type": "stream",
     "text": [
      "a is 2\n"
     ]
    }
   ],
   "source": [
    "a=2\n",
    "if a==2:\n",
    "    print(\"a is 2\")"
   ]
  },
  {
   "cell_type": "code",
   "execution_count": 15,
   "id": "45d0b199",
   "metadata": {},
   "outputs": [
    {
     "name": "stdout",
     "output_type": "stream",
     "text": [
      "apurva\n",
      "Hello apurva\n"
     ]
    }
   ],
   "source": [
    "name=input()\n",
    "if (name=='apurva'):\n",
    "    print(\"Hello apurva\")"
   ]
  },
  {
   "cell_type": "code",
   "execution_count": 14,
   "id": "f58aca8f",
   "metadata": {},
   "outputs": [
    {
     "name": "stdout",
     "output_type": "stream",
     "text": [
      "Enter your age23\n"
     ]
    }
   ],
   "source": [
    "age=int(input(\"Enter your age\"))\n",
    "if age <=18:\n",
    "    print(\"your are 18+\")"
   ]
  },
  {
   "cell_type": "code",
   "execution_count": 16,
   "id": "3392d81a",
   "metadata": {},
   "outputs": [
    {
     "name": "stdout",
     "output_type": "stream",
     "text": [
      "5 is not equal to 4\n"
     ]
    }
   ],
   "source": [
    "n=5!=4\n",
    "if 5!=4:\n",
    "    print(\"5 is not equal to 4\")"
   ]
  },
  {
   "cell_type": "code",
   "execution_count": 24,
   "id": "37dcfe74",
   "metadata": {},
   "outputs": [
    {
     "name": "stdout",
     "output_type": "stream",
     "text": [
      "number is even\n"
     ]
    }
   ],
   "source": [
    "a=4\n",
    "if a%2==0:\n",
    "    print(\"number is even\")"
   ]
  },
  {
   "cell_type": "code",
   "execution_count": 27,
   "id": "df4bb821",
   "metadata": {},
   "outputs": [
    {
     "name": "stdout",
     "output_type": "stream",
     "text": [
      "a is equal to b\n"
     ]
    }
   ],
   "source": [
    "a=4\n",
    "b=4\n",
    "if a==b:\n",
    "    print(\"a is equal to b\")"
   ]
  },
  {
   "cell_type": "code",
   "execution_count": 28,
   "id": "f31a9989",
   "metadata": {},
   "outputs": [
    {
     "name": "stdout",
     "output_type": "stream",
     "text": [
      "both condition are true\n"
     ]
    }
   ],
   "source": [
    "a=200\n",
    "b=22\n",
    "c=500\n",
    "if a>b and b<c:\n",
    "    print(\"both condition are true\")"
   ]
  },
  {
   "cell_type": "code",
   "execution_count": 29,
   "id": "925d4566",
   "metadata": {},
   "outputs": [
    {
     "name": "stdout",
     "output_type": "stream",
     "text": [
      "2 is in list\n"
     ]
    }
   ],
   "source": [
    "my_list=[1,2,3,4]\n",
    "if 2 in my_list:\n",
    "    print(\"2 is in list\")"
   ]
  }
 ],
 "metadata": {
  "kernelspec": {
   "display_name": "Python 3 (ipykernel)",
   "language": "python",
   "name": "python3"
  },
  "language_info": {
   "codemirror_mode": {
    "name": "ipython",
    "version": 3
   },
   "file_extension": ".py",
   "mimetype": "text/x-python",
   "name": "python",
   "nbconvert_exporter": "python",
   "pygments_lexer": "ipython3",
   "version": "3.9.13"
  }
 },
 "nbformat": 4,
 "nbformat_minor": 5
}

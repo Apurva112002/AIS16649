{
 "cells": [
  {
   "cell_type": "markdown",
   "id": "682f27e7",
   "metadata": {},
   "source": [
    "### For loop is use for making a sequence.its like a loop that goes through a list of things one by one."
   ]
  },
  {
   "cell_type": "code",
   "execution_count": 1,
   "id": "cc9c3541",
   "metadata": {},
   "outputs": [
    {
     "name": "stdout",
     "output_type": "stream",
     "text": [
      "apple\n",
      "banana\n",
      "mango\n",
      "cherry\n"
     ]
    }
   ],
   "source": [
    "fruits=['apple','banana','mango','cherry']\n",
    "for i in fruits:\n",
    "    print(i)"
   ]
  },
  {
   "cell_type": "code",
   "execution_count": 2,
   "id": "2c0e1fae",
   "metadata": {},
   "outputs": [
    {
     "name": "stdout",
     "output_type": "stream",
     "text": [
      "H\n",
      "e\n",
      "l\n",
      "l\n",
      "o\n"
     ]
    }
   ],
   "source": [
    "word='Hello'\n",
    "for i in word:\n",
    "    print(i)"
   ]
  },
  {
   "cell_type": "code",
   "execution_count": 4,
   "id": "a997981d",
   "metadata": {},
   "outputs": [
    {
     "name": "stdout",
     "output_type": "stream",
     "text": [
      "0\n",
      "1\n",
      "2\n",
      "3\n",
      "4\n",
      "5\n",
      "6\n",
      "7\n",
      "8\n",
      "9\n",
      "10\n"
     ]
    }
   ],
   "source": [
    "for i in range(11):\n",
    "    print(i)"
   ]
  },
  {
   "cell_type": "code",
   "execution_count": 5,
   "id": "f8950a4b",
   "metadata": {},
   "outputs": [
    {
     "name": "stdout",
     "output_type": "stream",
     "text": [
      "apurva\n",
      "maithili\n",
      "snehal\n"
     ]
    }
   ],
   "source": [
    "ages={\"apurva\":22,'maithili':18,'snehal':25}\n",
    "for key in ages:\n",
    "    print(key)"
   ]
  },
  {
   "cell_type": "code",
   "execution_count": 8,
   "id": "992d6040",
   "metadata": {},
   "outputs": [
    {
     "name": "stdout",
     "output_type": "stream",
     "text": [
      "1\n",
      "2\n"
     ]
    }
   ],
   "source": [
    "word='hello'\n",
    "vowels='aeiou'\n",
    "count=0\n",
    "for letter in word:\n",
    "    if letter in vowels:\n",
    "        count+=1\n",
    "        print(count)"
   ]
  },
  {
   "cell_type": "code",
   "execution_count": 11,
   "id": "5a3134d5",
   "metadata": {},
   "outputs": [
    {
     "name": "stdout",
     "output_type": "stream",
     "text": [
      "10\n",
      "30\n",
      "60\n",
      "100\n",
      "150\n"
     ]
    }
   ],
   "source": [
    "num=[10,20,30,40,50]\n",
    "total=0\n",
    "for numbers in num:\n",
    "    total+=numbers\n",
    "    print(total)"
   ]
  },
  {
   "cell_type": "code",
   "execution_count": 19,
   "id": "1826a232",
   "metadata": {},
   "outputs": [
    {
     "name": "stdout",
     "output_type": "stream",
     "text": [
      "1 is odd\n",
      "2 is even\n",
      "3 is odd\n",
      "4 is even\n",
      "5 is odd\n"
     ]
    }
   ],
   "source": [
    "for i in range(1,6):\n",
    "    if i%2==0:\n",
    "        print(i ,\"is even\")\n",
    "    else:\n",
    "              print(i, \"is odd\")"
   ]
  },
  {
   "cell_type": "code",
   "execution_count": 45,
   "id": "4a57b4b6",
   "metadata": {},
   "outputs": [
    {
     "name": "stdout",
     "output_type": "stream",
     "text": [
      "number:1,character:a\n",
      "number:2,character:b\n",
      "number:3,character:c\n"
     ]
    }
   ],
   "source": [
    "tuples=[(1,'a'),(2,'b'),(3,'c')]\n",
    "for num,char in tuples:\n",
    "    print(f\"number:{num},character:{char}\")"
   ]
  },
  {
   "cell_type": "code",
   "execution_count": 34,
   "id": "58e46da3",
   "metadata": {},
   "outputs": [
    {
     "name": "stdout",
     "output_type": "stream",
     "text": [
      "{'apurva': 22, 'maithili': 18, 'snehal': 25} {key}:{value}\n",
      "{'apurva': 22, 'maithili': 18, 'snehal': 25} {key}:{value}\n",
      "{'apurva': 22, 'maithili': 18, 'snehal': 25} {key}:{value}\n"
     ]
    }
   ],
   "source": [
    "ages={\"apurva\":22,'maithili':18,'snehal':25}\n",
    "for key,value in ages.items():\n",
    "    print(ages,\"{key}:{value}\")"
   ]
  },
  {
   "cell_type": "code",
   "execution_count": 41,
   "id": "5e738d18",
   "metadata": {},
   "outputs": [
    {
     "name": "stdout",
     "output_type": "stream",
     "text": [
      "25\n"
     ]
    }
   ],
   "source": [
    "num=[15,25,10,35,20]\n",
    "max_num=num[1]\n",
    "for number in num:\n",
    "    if number>max_num:\n",
    "        print(max_num)"
   ]
  }
 ],
 "metadata": {
  "kernelspec": {
   "display_name": "Python 3 (ipykernel)",
   "language": "python",
   "name": "python3"
  },
  "language_info": {
   "codemirror_mode": {
    "name": "ipython",
    "version": 3
   },
   "file_extension": ".py",
   "mimetype": "text/x-python",
   "name": "python",
   "nbconvert_exporter": "python",
   "pygments_lexer": "ipython3",
   "version": "3.9.13"
  }
 },
 "nbformat": 4,
 "nbformat_minor": 5
}

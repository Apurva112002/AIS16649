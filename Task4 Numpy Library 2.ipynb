{
 "cells": [
  {
   "cell_type": "markdown",
   "id": "91c82ea7",
   "metadata": {},
   "source": [
    "### Random Numbers:\n",
    "Numpy provides various function in the numpy.random module to generates random numbers."
   ]
  },
  {
   "cell_type": "code",
   "execution_count": 5,
   "id": "f5cdaa25",
   "metadata": {},
   "outputs": [
    {
     "name": "stdout",
     "output_type": "stream",
     "text": [
      "[0.29020949 0.56288967 0.66657107 0.8771169  0.5949895  0.8989539\n",
      " 0.67302861 0.84821246 0.32446447 0.42299642 0.99236542 0.49255048\n",
      " 0.51467794 0.43102189 0.81564281 0.49133781 0.07034952 0.18651687\n",
      " 0.44394141 0.85462259]\n"
     ]
    }
   ],
   "source": [
    "\n",
    "import numpy as np\n",
    "random_number=np.random.rand(20)\n",
    "print(random_number)"
   ]
  },
  {
   "cell_type": "code",
   "execution_count": 12,
   "id": "c4179859",
   "metadata": {},
   "outputs": [
    {
     "name": "stdout",
     "output_type": "stream",
     "text": [
      "[9 0 1 2 7 8]\n"
     ]
    }
   ],
   "source": [
    "#Random Array: Integers\n",
    "from numpy import random\n",
    "x=random.randint(10,size=(6))\n",
    "print(x)"
   ]
  },
  {
   "cell_type": "code",
   "execution_count": 13,
   "id": "e5909257",
   "metadata": {},
   "outputs": [
    {
     "name": "stdout",
     "output_type": "stream",
     "text": [
      "[[2 5 0 6 7]\n",
      " [4 5 0 8 0]\n",
      " [5 3 6 1 9]]\n"
     ]
    }
   ],
   "source": [
    "#2-D array with 3 rows and 5 columns.\n",
    "from numpy import random\n",
    "x=random.randint(10,size=(3,5))\n",
    "print(x)"
   ]
  },
  {
   "cell_type": "code",
   "execution_count": 15,
   "id": "9b0cd198",
   "metadata": {},
   "outputs": [
    {
     "name": "stdout",
     "output_type": "stream",
     "text": [
      "4\n"
     ]
    }
   ],
   "source": [
    "#Choice(): This method is use to select a random value based on a array of values.\n",
    "from numpy import random\n",
    "x=random.choice([3,4,5,6])\n",
    "print(x)"
   ]
  },
  {
   "cell_type": "code",
   "execution_count": 16,
   "id": "6b6b3bf0",
   "metadata": {},
   "outputs": [
    {
     "name": "stdout",
     "output_type": "stream",
     "text": [
      "[[4 5 6 5 6]\n",
      " [3 6 4 4 6]\n",
      " [5 4 3 3 3]]\n"
     ]
    }
   ],
   "source": [
    "from numpy import random\n",
    "x=random.choice([3,4,5,6],size=(3,5))\n",
    "print(x)"
   ]
  },
  {
   "cell_type": "code",
   "execution_count": 18,
   "id": "b3faa8a8",
   "metadata": {},
   "outputs": [
    {
     "name": "stdout",
     "output_type": "stream",
     "text": [
      "[4.18842267 3.45577664 4.57270326 9.7704704  3.55351423]\n"
     ]
    }
   ],
   "source": [
    "# Random numbers from uniform distribustion between o to 1:\n",
    "import numpy as np\n",
    "rand_uniform=np.random.uniform(1,10,5)\n",
    "print(rand_uniform)"
   ]
  },
  {
   "cell_type": "code",
   "execution_count": 19,
   "id": "65a11a20",
   "metadata": {},
   "outputs": [
    {
     "name": "stdout",
     "output_type": "stream",
     "text": [
      "[ 0.58335412 -0.96609024  1.07044018 -0.45121439 -0.05419261]\n"
     ]
    }
   ],
   "source": [
    "#Normal Distribution:\n",
    "import numpy as np\n",
    "rand_normal=np.random.normal(0,1,5)\n",
    "print(rand_normal)"
   ]
  },
  {
   "cell_type": "markdown",
   "id": "16b54570",
   "metadata": {},
   "source": [
    "### Mathematical Opertations:\n",
    "Numpy allows to perform mathematical operation on array efficiently."
   ]
  },
  {
   "cell_type": "code",
   "execution_count": 21,
   "id": "3dfc1521",
   "metadata": {},
   "outputs": [
    {
     "name": "stdout",
     "output_type": "stream",
     "text": [
      "[5 7 9]\n"
     ]
    }
   ],
   "source": [
    "#Addition:\n",
    "import numpy as np\n",
    "arr1=np.array([1,2,3])\n",
    "arr2=np.array([4,5,6])\n",
    "r=np.add(arr1,arr2)\n",
    "print(r)"
   ]
  },
  {
   "cell_type": "code",
   "execution_count": 24,
   "id": "6d0b85c2",
   "metadata": {},
   "outputs": [
    {
     "name": "stdout",
     "output_type": "stream",
     "text": [
      "[-4 -5 -5]\n"
     ]
    }
   ],
   "source": [
    "#Substraction:\n",
    "arr1=np.array([1,2,3])\n",
    "arr2=np.array([5,7,8])\n",
    "r=np.subtract(arr1,arr2)\n",
    "print(r)"
   ]
  },
  {
   "cell_type": "code",
   "execution_count": 25,
   "id": "14b29a7d",
   "metadata": {},
   "outputs": [
    {
     "name": "stdout",
     "output_type": "stream",
     "text": [
      "[ 4 10 18]\n"
     ]
    }
   ],
   "source": [
    "#Multiplication:\n",
    "arr1=np.array([1,2,3])\n",
    "arr2=np.array([4,5,6])\n",
    "r=np.multiply(arr1,arr2)\n",
    "print(r)"
   ]
  },
  {
   "cell_type": "code",
   "execution_count": 26,
   "id": "73745ec6",
   "metadata": {},
   "outputs": [
    {
     "name": "stdout",
     "output_type": "stream",
     "text": [
      "[0.25 0.4  0.5 ]\n"
     ]
    }
   ],
   "source": [
    "#Division:\n",
    "arr1=np.array([1,2,3])\n",
    "arr2=np.array([4,5,6])\n",
    "r=np.divide(arr1,arr2)\n",
    "print(r)"
   ]
  },
  {
   "cell_type": "code",
   "execution_count": 28,
   "id": "694ad383",
   "metadata": {},
   "outputs": [
    {
     "name": "stdout",
     "output_type": "stream",
     "text": [
      "[[1073741824          0]\n",
      " [         0          0]]\n"
     ]
    }
   ],
   "source": [
    "#Exponentiation:\n",
    "n1=np.array([[10,20],[60,70]])\n",
    "n2=np.array([[30,40],[80,90]])\n",
    "z=n1**n2\n",
    "print(z)"
   ]
  },
  {
   "cell_type": "code",
   "execution_count": 29,
   "id": "c06891b9",
   "metadata": {},
   "outputs": [
    {
     "name": "stdout",
     "output_type": "stream",
     "text": [
      "[[10 20]\n",
      " [60 70]]\n"
     ]
    }
   ],
   "source": [
    "# Modulo\n",
    "n1=np.array([[10,20],[60,70]])\n",
    "n2=np.array([[30,40],[80,90]])\n",
    "z=n1%n2\n",
    "print(z)\n"
   ]
  },
  {
   "cell_type": "code",
   "execution_count": 30,
   "id": "42ca4535",
   "metadata": {},
   "outputs": [
    {
     "name": "stdout",
     "output_type": "stream",
     "text": [
      "[1. 2. 3.]\n"
     ]
    }
   ],
   "source": [
    "#Square Root:\n",
    "arr=np.array([1,4,9])\n",
    "result=np.sqrt(arr)\n",
    "print(result)"
   ]
  },
  {
   "cell_type": "markdown",
   "id": "35c591c7",
   "metadata": {},
   "source": [
    "### Statistical Functions:\n",
    "In numpy includes many statistical functions like mean ,median,std,etc which can be applied to array."
   ]
  },
  {
   "cell_type": "code",
   "execution_count": 32,
   "id": "a17e58a3",
   "metadata": {},
   "outputs": [
    {
     "name": "stdout",
     "output_type": "stream",
     "text": [
      "3.0\n"
     ]
    }
   ],
   "source": [
    "#Mean:\n",
    "import numpy as np\n",
    "arr=np.array([1,2,3,4,5])\n",
    "r=np.mean(arr)\n",
    "print(r)"
   ]
  },
  {
   "cell_type": "code",
   "execution_count": 34,
   "id": "096291d3",
   "metadata": {},
   "outputs": [
    {
     "name": "stdout",
     "output_type": "stream",
     "text": [
      "5.0\n"
     ]
    }
   ],
   "source": [
    "#Meadian:\n",
    "import numpy as np\n",
    "arr=np.array([1,9,3,7,5])\n",
    "r=np.median(arr)\n",
    "print(r)"
   ]
  },
  {
   "cell_type": "code",
   "execution_count": 35,
   "id": "f1792219",
   "metadata": {},
   "outputs": [
    {
     "name": "stdout",
     "output_type": "stream",
     "text": [
      "2.8284271247461903\n"
     ]
    }
   ],
   "source": [
    "#Standard Deviation:\n",
    "import numpy as np\n",
    "arr=np.array([2,4,6,8,10])\n",
    "r=np.std(arr)\n",
    "print(r)"
   ]
  },
  {
   "cell_type": "code",
   "execution_count": 36,
   "id": "919edf2d",
   "metadata": {},
   "outputs": [
    {
     "name": "stdout",
     "output_type": "stream",
     "text": [
      "2.0\n"
     ]
    }
   ],
   "source": [
    "#Variance:\n",
    "import numpy as np\n",
    "arr=np.array([1,2,3,4,5])\n",
    "r=np.var(arr)\n",
    "print(r)"
   ]
  },
  {
   "cell_type": "code",
   "execution_count": 37,
   "id": "939ac633",
   "metadata": {},
   "outputs": [
    {
     "name": "stdout",
     "output_type": "stream",
     "text": [
      "Min 1\n",
      "Max 9\n"
     ]
    }
   ],
   "source": [
    "# Min and Max Value:\n",
    "import numpy as np\n",
    "arr=np.array([3,7,9,1])\n",
    "min_val=np.min(arr)\n",
    "max_val=np.max(arr)\n",
    "print('Min',min_val)\n",
    "print('Max',max_val)"
   ]
  },
  {
   "cell_type": "code",
   "execution_count": 41,
   "id": "05f225ee",
   "metadata": {},
   "outputs": [
    {
     "name": "stdout",
     "output_type": "stream",
     "text": [
      "15\n"
     ]
    }
   ],
   "source": [
    "#Sum\n",
    "import numpy as np\n",
    "arr=np.array([1,2,3,4,5])\n",
    "r=np.sum(arr)\n",
    "print(r)"
   ]
  },
  {
   "cell_type": "markdown",
   "id": "393effa9",
   "metadata": {},
   "source": [
    "### Data Visualization:\n",
    "Mataplotlib or Seaborn libraries are use for data visualization.\n",
    "This libraries work well with numpy arrays to create various types of plots such as line plots, scatter plotes, histogram, and more."
   ]
  },
  {
   "cell_type": "code",
   "execution_count": 47,
   "id": "010f63d7",
   "metadata": {},
   "outputs": [],
   "source": [
    "import numpy as np\n",
    "import seaborn as sns\n",
    "import matplotlib.pyplot as plt"
   ]
  },
  {
   "cell_type": "code",
   "execution_count": 48,
   "id": "46e8d64c",
   "metadata": {},
   "outputs": [
    {
     "name": "stderr",
     "output_type": "stream",
     "text": [
      "C:\\Users\\HP\\anaconda3\\lib\\site-packages\\seaborn\\_decorators.py:36: FutureWarning: Pass the following variables as keyword args: x, y. From version 0.12, the only valid positional argument will be `data`, and passing other arguments without an explicit keyword will result in an error or misinterpretation.\n",
      "  warnings.warn(\n"
     ]
    },
    {
     "data": {
      "image/png": "[encoded data removed]",
      "text/plain": [
       "<Figure size 640x480 with 1 Axes>"
      ]
     },
     "metadata": {},
     "output_type": "display_data"
    }
   ],
   "source": [
    "np.random.seed(0)\n",
    "x=np.random.rand(50)\n",
    "y=np.random.rand(50)\n",
    "sns.scatterplot(x==x,y==y)\n",
    "plt.xlabel('x=axis')\n",
    "plt.xlabel('y=axis')\n",
    "plt.title('Scatter plot')\n",
    "plt.show()"
   ]
  }
 ],
 "metadata": {
  "kernelspec": {
   "display_name": "Python 3 (ipykernel)",
   "language": "python",
   "name": "python3"
  },
  "language_info": {
   "codemirror_mode": {
    "name": "ipython",
    "version": 3
   },
   "file_extension": ".py",
   "mimetype": "text/x-python",
   "name": "python",
   "nbconvert_exporter": "python",
   "pygments_lexer": "ipython3",
   "version": "3.9.13"
  }
 },
 "nbformat": 4,
 "nbformat_minor": 5
}

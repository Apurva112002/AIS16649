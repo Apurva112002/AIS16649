{
 "cells": [
  {
   "cell_type": "markdown",
   "id": "53c2a496",
   "metadata": {},
   "source": [
    "### if-else conditions is written when the if statment is not true then we go to else statments to write a correct statments "
   ]
  },
  {
   "cell_type": "code",
   "execution_count": 5,
   "id": "c605acf7",
   "metadata": {},
   "outputs": [
    {
     "name": "stdout",
     "output_type": "stream",
     "text": [
      "Enter the numbers 21\n",
      "nuber is divisible by 7\n"
     ]
    }
   ],
   "source": [
    "num=int(input(\"Enter the numbers \"))\n",
    "if num%7==0:\n",
    "    print('nuber is divisible by 7')\n",
    "else:\n",
    "    print(\"number is not divisible\")"
   ]
  },
  {
   "cell_type": "code",
   "execution_count": 6,
   "id": "531ed49d",
   "metadata": {},
   "outputs": [
    {
     "name": "stdout",
     "output_type": "stream",
     "text": [
      "a is greater than b\n"
     ]
    }
   ],
   "source": [
    "a=200\n",
    "b=33\n",
    "if b>a:\n",
    "    print(\"b is greater than a\")\n",
    "else:\n",
    "    print(\"a is greater than b\")"
   ]
  },
  {
   "cell_type": "code",
   "execution_count": 7,
   "id": "9e272e3a",
   "metadata": {},
   "outputs": [
    {
     "name": "stdout",
     "output_type": "stream",
     "text": [
      "only one condition are true\n"
     ]
    }
   ],
   "source": [
    "a=200\n",
    "b=22\n",
    "c=500\n",
    "if a>b and b>c:\n",
    "    print(\"both condition are true\")\n",
    "else:\n",
    "    print(\"only one condition are true\")"
   ]
  },
  {
   "cell_type": "code",
   "execution_count": 13,
   "id": "b01d5949",
   "metadata": {},
   "outputs": [
    {
     "name": "stdout",
     "output_type": "stream",
     "text": [
      "x is above 10\n"
     ]
    }
   ],
   "source": [
    "x=14\n",
    "if x>10:\n",
    "    print(\"x is above 10\")\n",
    "else:\n",
    "    print(\"not above 10\")"
   ]
  },
  {
   "cell_type": "code",
   "execution_count": 14,
   "id": "3b0f84ac",
   "metadata": {},
   "outputs": [
    {
     "name": "stdout",
     "output_type": "stream",
     "text": [
      "Number is even\n"
     ]
    }
   ],
   "source": [
    "num=10\n",
    "if num%2==0:\n",
    "    print(\"Number is even\")\n",
    "else: \n",
    "    print(\"Number is odd\")"
   ]
  },
  {
   "cell_type": "code",
   "execution_count": 19,
   "id": "b5160cec",
   "metadata": {},
   "outputs": [
    {
     "name": "stdout",
     "output_type": "stream",
     "text": [
      "Leap year\n"
     ]
    }
   ],
   "source": [
    "year=2024\n",
    "if (year%4==0 and year%100!=0)or(year%400==0):\n",
    "    print(\"Leap year\")\n",
    "else:\n",
    "          print(\"Not a Leap year\")"
   ]
  },
  {
   "cell_type": "code",
   "execution_count": 20,
   "id": "efdc3fef",
   "metadata": {},
   "outputs": [
    {
     "name": "stdout",
     "output_type": "stream",
     "text": [
      "number is zero\n"
     ]
    }
   ],
   "source": [
    "num=-3\n",
    "if num>0:\n",
    "    print(\"Number is positive\")\n",
    "else:\n",
    "    print(\"number is zero\")"
   ]
  },
  {
   "cell_type": "code",
   "execution_count": 21,
   "id": "3bcd33bd",
   "metadata": {},
   "outputs": [
    {
     "name": "stdout",
     "output_type": "stream",
     "text": [
      "char is a vowel\n"
     ]
    }
   ],
   "source": [
    "char='a'\n",
    "if char in 'aeiou':\n",
    "    print('char is a vowel')\n",
    "else:\n",
    "    print('char is a consonant')"
   ]
  },
  {
   "cell_type": "code",
   "execution_count": 22,
   "id": "91ee4f61",
   "metadata": {},
   "outputs": [
    {
     "name": "stdout",
     "output_type": "stream",
     "text": [
      "word is palindrome\n"
     ]
    }
   ],
   "source": [
    "word='radar'\n",
    "if word==word[::-1]:\n",
    "    print(\"word is palindrome\")\n",
    "else:\n",
    "    print(\"word is not palindrome\")"
   ]
  },
  {
   "cell_type": "code",
   "execution_count": 23,
   "id": "fbd6d92b",
   "metadata": {},
   "outputs": [
    {
     "name": "stdout",
     "output_type": "stream",
     "text": [
      "factorial of 5 is 1\n",
      "factorial of 5 is 2\n",
      "factorial of 5 is 6\n",
      "factorial of 5 is 24\n",
      "factorial of 5 is 120\n"
     ]
    }
   ],
   "source": [
    "num=5\n",
    "factorial=1\n",
    "if num<0:\n",
    "    print(\"factorial is not defined for negative number\")\n",
    "else:\n",
    "    for i in range(1,num +1):\n",
    "        factorial*=i\n",
    "        print('factorial of',num,'is',factorial)"
   ]
  }
 ],
 "metadata": {
  "kernelspec": {
   "display_name": "Python 3 (ipykernel)",
   "language": "python",
   "name": "python3"
  },
  "language_info": {
   "codemirror_mode": {
    "name": "ipython",
    "version": 3
   },
   "file_extension": ".py",
   "mimetype": "text/x-python",
   "name": "python",
   "nbconvert_exporter": "python",
   "pygments_lexer": "ipython3",
   "version": "3.9.13"
  }
 },
 "nbformat": 4,
 "nbformat_minor": 5
}

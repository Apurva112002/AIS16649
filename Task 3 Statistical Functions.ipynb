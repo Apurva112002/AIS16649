{
 "cells": [
  {
   "cell_type": "markdown",
   "id": "002f1240",
   "metadata": {},
   "source": [
    "### Mean:\n",
    ".mean Function can be use to calculate mean/average of given list of numbers.\n",
    ".It also called average.\n",
    ".it statistical measure that calculates the sum of all values in a datasert divided by the total number of values."
   ]
  },
  {
   "cell_type": "code",
   "execution_count": 2,
   "id": "8764f57c",
   "metadata": {},
   "outputs": [
    {
     "data": {
      "text/plain": [
       "3.0"
      ]
     },
     "execution_count": 2,
     "metadata": {},
     "output_type": "execute_result"
    }
   ],
   "source": [
    "data=[1,2,3,4,5]\n",
    "def mean(data):\n",
    "    return sum(data)/len(data)\n",
    "mean(data)\n"
   ]
  },
  {
   "cell_type": "markdown",
   "id": "5d5f2471",
   "metadata": {},
   "source": [
    "### Median:\n",
    ".The median is the middle value in a dataset.\n",
    ".If the dataset has an odd number of value,the median is the middle number and if the dataset has a even number of value the median is the average of two middle."
   ]
  },
  {
   "cell_type": "code",
   "execution_count": 6,
   "id": "9a7fd1a8",
   "metadata": {},
   "outputs": [
    {
     "data": {
      "text/plain": [
       "5"
      ]
     },
     "execution_count": 6,
     "metadata": {},
     "output_type": "execute_result"
    }
   ],
   "source": [
    "number=[1,3,5,7,9]\n",
    "def median(number):\n",
    "    s=sorted(number)\n",
    "    n=len(s)\n",
    "    mid=n//2\n",
    "    if n%2==0:\n",
    "        return(s[mid-1]+s[mid])/2\n",
    "    else:\n",
    "        return s[mid]\n",
    "median(number)"
   ]
  },
  {
   "cell_type": "markdown",
   "id": "bd584dda",
   "metadata": {},
   "source": [
    "### Mode:\n",
    "mode is value that appears most frequently in a dataset."
   ]
  },
  {
   "cell_type": "code",
   "execution_count": 5,
   "id": "5a7be670",
   "metadata": {},
   "outputs": [
    {
     "data": {
      "text/plain": [
       "[4]"
      ]
     },
     "execution_count": 5,
     "metadata": {},
     "output_type": "execute_result"
    }
   ],
   "source": [
    "from collections import Counter\n",
    "numbers=[1,2,2,3,4,4,4,5]\n",
    "def mode(numbers):\n",
    "    data=Counter(numbers)\n",
    "    max_count=max(data.values())\n",
    "    mode_values=[num for num,count in data.items()if count==max_count]\n",
    "    return mode_values\n",
    "mode(numbers)"
   ]
  },
  {
   "cell_type": "markdown",
   "id": "80dbc6bd",
   "metadata": {},
   "source": [
    "### Range:\n",
    "The range function in python is used to generate a sequence of numbers."
   ]
  },
  {
   "cell_type": "code",
   "execution_count": 6,
   "id": "336259cd",
   "metadata": {},
   "outputs": [
    {
     "name": "stdout",
     "output_type": "stream",
     "text": [
      "[1, 2, 3, 4, 5]\n"
     ]
    }
   ],
   "source": [
    "my_list=list(range(1,6))\n",
    "print(my_list)"
   ]
  },
  {
   "cell_type": "markdown",
   "id": "b5839f26",
   "metadata": {},
   "source": [
    "### Variance Function: \n",
    "variance function in statistics is used to measure hoe spread out a set of data point are from the mean(average\n"
   ]
  },
  {
   "cell_type": "code",
   "execution_count": 12,
   "id": "968247ae",
   "metadata": {},
   "outputs": [
    {
     "name": "stdout",
     "output_type": "stream",
     "text": [
      "4.571428571428571\n"
     ]
    }
   ],
   "source": [
    "import statistics\n",
    "data=[2,4,4,4,5,5,7,9]\n",
    "variance=statistics.variance(data)\n",
    "print(variance)"
   ]
  },
  {
   "cell_type": "markdown",
   "id": "55384a6e",
   "metadata": {},
   "source": [
    "### Standard Deviation Function:\n",
    "std function in python is used to measure the amount of variation or dispersion of a set of values from the mean.\n",
    "It gives you an idea of how spread out the data points are.\n"
   ]
  },
  {
   "cell_type": "code",
   "execution_count": 16,
   "id": "2f49c4cb",
   "metadata": {},
   "outputs": [
    {
     "name": "stdout",
     "output_type": "stream",
     "text": [
      "2.138089935299395\n"
     ]
    }
   ],
   "source": [
    "import statistics\n",
    "data=[2,4,4,4,5,5,7,9]\n",
    "std_dev=statistics.stdev(data)\n",
    "print(std_dev)"
   ]
  },
  {
   "cell_type": "markdown",
   "id": "4d4b7b6c",
   "metadata": {},
   "source": [
    "### Harmonic_mean():\n",
    "The Harmonic mean is a type of average,just like the more common arithmetic mean."
   ]
  },
  {
   "cell_type": "code",
   "execution_count": 3,
   "id": "d9638e53",
   "metadata": {},
   "outputs": [
    {
     "name": "stdout",
     "output_type": "stream",
     "text": [
      "4.37956204379562\n"
     ]
    }
   ],
   "source": [
    "import statistics\n",
    "numbers=[2,4,6,8,10]\n",
    "harmonic_mean=statistics.harmonic_mean(numbers)\n",
    "print(harmonic_mean)"
   ]
  },
  {
   "cell_type": "markdown",
   "id": "d5b6d8ff",
   "metadata": {},
   "source": [
    "### Median_low():\n",
    "The median low is the middle value in a sorted list when the list has an odd number of elements.\n",
    "of the list has an even number of elements,it is the lower of the two middle value. "
   ]
  },
  {
   "cell_type": "code",
   "execution_count": 4,
   "id": "156d2882",
   "metadata": {},
   "outputs": [
    {
     "name": "stdout",
     "output_type": "stream",
     "text": [
      "5\n"
     ]
    }
   ],
   "source": [
    "numbers=[3,1,7,5,9]\n",
    "median_low=statistics.median_low(numbers)\n",
    "print(median_low)"
   ]
  },
  {
   "cell_type": "markdown",
   "id": "9a03c27e",
   "metadata": {},
   "source": [
    "### Median_grouped():\n",
    "This is use when data grouped into intervals or classes."
   ]
  },
  {
   "cell_type": "code",
   "execution_count": 10,
   "id": "f5c92c2f",
   "metadata": {},
   "outputs": [
    {
     "name": "stdout",
     "output_type": "stream",
     "text": [
      "3.0\n"
     ]
    }
   ],
   "source": [
    "import statistics\n",
    "data=[1,2,3,4,5]\n",
    "print(statistics.median_grouped(data))"
   ]
  },
  {
   "cell_type": "markdown",
   "id": "d2f4fc96",
   "metadata": {},
   "source": [
    "### pstdev():\n",
    "pstdev stand for population standard deviation.it is function that calculates the std of given population dataset."
   ]
  },
  {
   "cell_type": "code",
   "execution_count": 14,
   "id": "2951c6b2",
   "metadata": {},
   "outputs": [
    {
     "name": "stdout",
     "output_type": "stream",
     "text": [
      "7.0710678118654755\n"
     ]
    }
   ],
   "source": [
    "import statistics\n",
    "data=[10,15,20,25,30]\n",
    "p_std=statistics.pstdev(data)\n",
    "print(p_std)"
   ]
  }
 ],
 "metadata": {
  "kernelspec": {
   "display_name": "Python 3 (ipykernel)",
   "language": "python",
   "name": "python3"
  },
  "language_info": {
   "codemirror_mode": {
    "name": "ipython",
    "version": 3
   },
   "file_extension": ".py",
   "mimetype": "text/x-python",
   "name": "python",
   "nbconvert_exporter": "python",
   "pygments_lexer": "ipython3",
   "version": "3.9.13"
  }
 },
 "nbformat": 4,
 "nbformat_minor": 5
}

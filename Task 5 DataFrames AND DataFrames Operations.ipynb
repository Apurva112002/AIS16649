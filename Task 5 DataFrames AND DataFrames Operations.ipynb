{
 "cells": [
  {
   "cell_type": "markdown",
   "id": "bcf31cf2",
   "metadata": {},
   "source": [
    "### Data Frame:\n",
    "DataFrame us is a 2 dimensional data structure,like 2 dimensional array or tables with rows and columns."
   ]
  },
  {
   "cell_type": "markdown",
   "id": "0618c7ea",
   "metadata": {},
   "source": [
    "### Load Files into DataFrame:"
   ]
  },
  {
   "cell_type": "code",
   "execution_count": 8,
   "id": "ea6b7d18",
   "metadata": {
    "collapsed": true
   },
   "outputs": [
    {
     "ename": "FileNotFoundError",
     "evalue": "[Errno 2] No such file or directory: 'data.csv'",
     "output_type": "error",
     "traceback": [
      "\u001b[1;31m---------------------------------------------------------------------------\u001b[0m",
      "\u001b[1;31mFileNotFoundError\u001b[0m                         Traceback (most recent call last)",
      "\u001b[1;32m~\\AppData\\Local\\Temp\\ipykernel_23492\\122314640.py\u001b[0m in \u001b[0;36m<module>\u001b[1;34m\u001b[0m\n\u001b[0;32m      1\u001b[0m \u001b[1;32mimport\u001b[0m \u001b[0mpandas\u001b[0m \u001b[1;32mas\u001b[0m \u001b[0mpd\u001b[0m\u001b[1;33m\u001b[0m\u001b[1;33m\u001b[0m\u001b[0m\n\u001b[1;32m----> 2\u001b[1;33m \u001b[0mdf\u001b[0m\u001b[1;33m=\u001b[0m\u001b[0mpd\u001b[0m\u001b[1;33m.\u001b[0m\u001b[0mread_csv\u001b[0m\u001b[1;33m(\u001b[0m\u001b[1;34m'data.csv'\u001b[0m\u001b[1;33m)\u001b[0m\u001b[1;33m\u001b[0m\u001b[1;33m\u001b[0m\u001b[0m\n\u001b[0m\u001b[0;32m      3\u001b[0m \u001b[0mprint\u001b[0m\u001b[1;33m(\u001b[0m\u001b[0mdf\u001b[0m\u001b[1;33m)\u001b[0m\u001b[1;33m\u001b[0m\u001b[1;33m\u001b[0m\u001b[0m\n",
      "\u001b[1;32m~\\anaconda3\\lib\\site-packages\\pandas\\util\\_decorators.py\u001b[0m in \u001b[0;36mwrapper\u001b[1;34m(*args, **kwargs)\u001b[0m\n\u001b[0;32m    309\u001b[0m                     \u001b[0mstacklevel\u001b[0m\u001b[1;33m=\u001b[0m\u001b[0mstacklevel\u001b[0m\u001b[1;33m,\u001b[0m\u001b[1;33m\u001b[0m\u001b[1;33m\u001b[0m\u001b[0m\n\u001b[0;32m    310\u001b[0m                 )\n\u001b[1;32m--> 311\u001b[1;33m             \u001b[1;32mreturn\u001b[0m \u001b[0mfunc\u001b[0m\u001b[1;33m(\u001b[0m\u001b[1;33m*\u001b[0m\u001b[0margs\u001b[0m\u001b[1;33m,\u001b[0m \u001b[1;33m**\u001b[0m\u001b[0mkwargs\u001b[0m\u001b[1;33m)\u001b[0m\u001b[1;33m\u001b[0m\u001b[1;33m\u001b[0m\u001b[0m\n\u001b[0m\u001b[0;32m    312\u001b[0m \u001b[1;33m\u001b[0m\u001b[0m\n\u001b[0;32m    313\u001b[0m         \u001b[1;32mreturn\u001b[0m \u001b[0mwrapper\u001b[0m\u001b[1;33m\u001b[0m\u001b[1;33m\u001b[0m\u001b[0m\n",
      "\u001b[1;32m~\\anaconda3\\lib\\site-packages\\pandas\\io\\parsers\\readers.py\u001b[0m in \u001b[0;36mread_csv\u001b[1;34m(filepath_or_buffer, sep, delimiter, header, names, index_col, usecols, squeeze, prefix, mangle_dupe_cols, dtype, engine, converters, true_values, false_values, skipinitialspace, skiprows, skipfooter, nrows, na_values, keep_default_na, na_filter, verbose, skip_blank_lines, parse_dates, infer_datetime_format, keep_date_col, date_parser, dayfirst, cache_dates, iterator, chunksize, compression, thousands, decimal, lineterminator, quotechar, quoting, doublequote, escapechar, comment, encoding, encoding_errors, dialect, error_bad_lines, warn_bad_lines, on_bad_lines, delim_whitespace, low_memory, memory_map, float_precision, storage_options)\u001b[0m\n\u001b[0;32m    676\u001b[0m     \u001b[0mkwds\u001b[0m\u001b[1;33m.\u001b[0m\u001b[0mupdate\u001b[0m\u001b[1;33m(\u001b[0m\u001b[0mkwds_defaults\u001b[0m\u001b[1;33m)\u001b[0m\u001b[1;33m\u001b[0m\u001b[1;33m\u001b[0m\u001b[0m\n\u001b[0;32m    677\u001b[0m \u001b[1;33m\u001b[0m\u001b[0m\n\u001b[1;32m--> 678\u001b[1;33m     \u001b[1;32mreturn\u001b[0m \u001b[0m_read\u001b[0m\u001b[1;33m(\u001b[0m\u001b[0mfilepath_or_buffer\u001b[0m\u001b[1;33m,\u001b[0m \u001b[0mkwds\u001b[0m\u001b[1;33m)\u001b[0m\u001b[1;33m\u001b[0m\u001b[1;33m\u001b[0m\u001b[0m\n\u001b[0m\u001b[0;32m    679\u001b[0m \u001b[1;33m\u001b[0m\u001b[0m\n\u001b[0;32m    680\u001b[0m \u001b[1;33m\u001b[0m\u001b[0m\n",
      "\u001b[1;32m~\\anaconda3\\lib\\site-packages\\pandas\\io\\parsers\\readers.py\u001b[0m in \u001b[0;36m_read\u001b[1;34m(filepath_or_buffer, kwds)\u001b[0m\n\u001b[0;32m    573\u001b[0m \u001b[1;33m\u001b[0m\u001b[0m\n\u001b[0;32m    574\u001b[0m     \u001b[1;31m# Create the parser.\u001b[0m\u001b[1;33m\u001b[0m\u001b[1;33m\u001b[0m\u001b[0m\n\u001b[1;32m--> 575\u001b[1;33m     \u001b[0mparser\u001b[0m \u001b[1;33m=\u001b[0m \u001b[0mTextFileReader\u001b[0m\u001b[1;33m(\u001b[0m\u001b[0mfilepath_or_buffer\u001b[0m\u001b[1;33m,\u001b[0m \u001b[1;33m**\u001b[0m\u001b[0mkwds\u001b[0m\u001b[1;33m)\u001b[0m\u001b[1;33m\u001b[0m\u001b[1;33m\u001b[0m\u001b[0m\n\u001b[0m\u001b[0;32m    576\u001b[0m \u001b[1;33m\u001b[0m\u001b[0m\n\u001b[0;32m    577\u001b[0m     \u001b[1;32mif\u001b[0m \u001b[0mchunksize\u001b[0m \u001b[1;32mor\u001b[0m \u001b[0miterator\u001b[0m\u001b[1;33m:\u001b[0m\u001b[1;33m\u001b[0m\u001b[1;33m\u001b[0m\u001b[0m\n",
      "\u001b[1;32m~\\anaconda3\\lib\\site-packages\\pandas\\io\\parsers\\readers.py\u001b[0m in \u001b[0;36m__init__\u001b[1;34m(self, f, engine, **kwds)\u001b[0m\n\u001b[0;32m    930\u001b[0m \u001b[1;33m\u001b[0m\u001b[0m\n\u001b[0;32m    931\u001b[0m         \u001b[0mself\u001b[0m\u001b[1;33m.\u001b[0m\u001b[0mhandles\u001b[0m\u001b[1;33m:\u001b[0m \u001b[0mIOHandles\u001b[0m \u001b[1;33m|\u001b[0m \u001b[1;32mNone\u001b[0m \u001b[1;33m=\u001b[0m \u001b[1;32mNone\u001b[0m\u001b[1;33m\u001b[0m\u001b[1;33m\u001b[0m\u001b[0m\n\u001b[1;32m--> 932\u001b[1;33m         \u001b[0mself\u001b[0m\u001b[1;33m.\u001b[0m\u001b[0m_engine\u001b[0m \u001b[1;33m=\u001b[0m \u001b[0mself\u001b[0m\u001b[1;33m.\u001b[0m\u001b[0m_make_engine\u001b[0m\u001b[1;33m(\u001b[0m\u001b[0mf\u001b[0m\u001b[1;33m,\u001b[0m \u001b[0mself\u001b[0m\u001b[1;33m.\u001b[0m\u001b[0mengine\u001b[0m\u001b[1;33m)\u001b[0m\u001b[1;33m\u001b[0m\u001b[1;33m\u001b[0m\u001b[0m\n\u001b[0m\u001b[0;32m    933\u001b[0m \u001b[1;33m\u001b[0m\u001b[0m\n\u001b[0;32m    934\u001b[0m     \u001b[1;32mdef\u001b[0m \u001b[0mclose\u001b[0m\u001b[1;33m(\u001b[0m\u001b[0mself\u001b[0m\u001b[1;33m)\u001b[0m\u001b[1;33m:\u001b[0m\u001b[1;33m\u001b[0m\u001b[1;33m\u001b[0m\u001b[0m\n",
      "\u001b[1;32m~\\anaconda3\\lib\\site-packages\\pandas\\io\\parsers\\readers.py\u001b[0m in \u001b[0;36m_make_engine\u001b[1;34m(self, f, engine)\u001b[0m\n\u001b[0;32m   1214\u001b[0m             \u001b[1;31m# \"Union[str, PathLike[str], ReadCsvBuffer[bytes], ReadCsvBuffer[str]]\"\u001b[0m\u001b[1;33m\u001b[0m\u001b[1;33m\u001b[0m\u001b[0m\n\u001b[0;32m   1215\u001b[0m             \u001b[1;31m# , \"str\", \"bool\", \"Any\", \"Any\", \"Any\", \"Any\", \"Any\"\u001b[0m\u001b[1;33m\u001b[0m\u001b[1;33m\u001b[0m\u001b[0m\n\u001b[1;32m-> 1216\u001b[1;33m             self.handles = get_handle(  # type: ignore[call-overload]\n\u001b[0m\u001b[0;32m   1217\u001b[0m                 \u001b[0mf\u001b[0m\u001b[1;33m,\u001b[0m\u001b[1;33m\u001b[0m\u001b[1;33m\u001b[0m\u001b[0m\n\u001b[0;32m   1218\u001b[0m                 \u001b[0mmode\u001b[0m\u001b[1;33m,\u001b[0m\u001b[1;33m\u001b[0m\u001b[1;33m\u001b[0m\u001b[0m\n",
      "\u001b[1;32m~\\anaconda3\\lib\\site-packages\\pandas\\io\\common.py\u001b[0m in \u001b[0;36mget_handle\u001b[1;34m(path_or_buf, mode, encoding, compression, memory_map, is_text, errors, storage_options)\u001b[0m\n\u001b[0;32m    784\u001b[0m         \u001b[1;32mif\u001b[0m \u001b[0mioargs\u001b[0m\u001b[1;33m.\u001b[0m\u001b[0mencoding\u001b[0m \u001b[1;32mand\u001b[0m \u001b[1;34m\"b\"\u001b[0m \u001b[1;32mnot\u001b[0m \u001b[1;32min\u001b[0m \u001b[0mioargs\u001b[0m\u001b[1;33m.\u001b[0m\u001b[0mmode\u001b[0m\u001b[1;33m:\u001b[0m\u001b[1;33m\u001b[0m\u001b[1;33m\u001b[0m\u001b[0m\n\u001b[0;32m    785\u001b[0m             \u001b[1;31m# Encoding\u001b[0m\u001b[1;33m\u001b[0m\u001b[1;33m\u001b[0m\u001b[0m\n\u001b[1;32m--> 786\u001b[1;33m             handle = open(\n\u001b[0m\u001b[0;32m    787\u001b[0m                 \u001b[0mhandle\u001b[0m\u001b[1;33m,\u001b[0m\u001b[1;33m\u001b[0m\u001b[1;33m\u001b[0m\u001b[0m\n\u001b[0;32m    788\u001b[0m                 \u001b[0mioargs\u001b[0m\u001b[1;33m.\u001b[0m\u001b[0mmode\u001b[0m\u001b[1;33m,\u001b[0m\u001b[1;33m\u001b[0m\u001b[1;33m\u001b[0m\u001b[0m\n",
      "\u001b[1;31mFileNotFoundError\u001b[0m: [Errno 2] No such file or directory: 'data.csv'"
     ]
    }
   ],
   "source": [
    "import pandas as pd\n",
    "df=pd.read_csv('data.csv')\n",
    "print(df)"
   ]
  },
  {
   "cell_type": "code",
   "execution_count": 7,
   "id": "2b10888c",
   "metadata": {},
   "outputs": [
    {
     "name": "stdout",
     "output_type": "stream",
     "text": [
      "   ID     Name  Age\n",
      "0   1    Alice   25\n",
      "1   2      Bob   30\n",
      "2   3  Charlie   35\n"
     ]
    }
   ],
   "source": [
    "# Data frame matrix: \n",
    "import pandas as pd\n",
    "data_matrix=[[1,'Alice',25],\n",
    "[2,'Bob',30],[3,'Charlie',35]]\n",
    "df_matrix=pd.DataFrame(data_matrix,columns=['ID','Name','Age'])\n",
    "print(df_matrix)"
   ]
  },
  {
   "cell_type": "code",
   "execution_count": 4,
   "id": "8f0831a8",
   "metadata": {
    "scrolled": true
   },
   "outputs": [
    {
     "name": "stdout",
     "output_type": "stream",
     "text": [
      "      Name  Age         City\n",
      "0    Alice   25     New york\n",
      "1      Bob   30  Los Angeles\n",
      "2  Charlie   35      Chicago\n",
      "3    David   40      Houston\n"
     ]
    }
   ],
   "source": [
    "#data Frame Dictionary:\n",
    "import pandas as pd\n",
    "data={'Name':['Alice','Bob','Charlie','David'],\n",
    "     'Age':[25,30,35,40],\n",
    "     'City':['New york','Los Angeles','Chicago','Houston']}\n",
    "df=pd.DataFrame(data)\n",
    "print(df)\n"
   ]
  },
  {
   "cell_type": "markdown",
   "id": "9fb1642a",
   "metadata": {},
   "source": [
    "### Locate Row:\n",
    "loc()is use to return one or more specified row"
   ]
  },
  {
   "cell_type": "code",
   "execution_count": 5,
   "id": "4be61393",
   "metadata": {},
   "outputs": [
    {
     "name": "stdout",
     "output_type": "stream",
     "text": [
      "    Name  Age\n",
      "0  Alice   25\n",
      "1    Bob   30\n"
     ]
    }
   ],
   "source": [
    "df_loc = df.loc[0:1, ['Name', 'Age']]\n",
    "print(df_loc)"
   ]
  },
  {
   "cell_type": "markdown",
   "id": "9aab98be",
   "metadata": {},
   "source": [
    "### Integer-location:\n",
    "This method used for integer location based indexing to select rows and columns by their integer position.\n",
    "it allows you to select data by row and column numbers."
   ]
  },
  {
   "cell_type": "code",
   "execution_count": 6,
   "id": "5ea528dd",
   "metadata": {},
   "outputs": [
    {
     "name": "stdout",
     "output_type": "stream",
     "text": [
      "   A   B\n",
      "1  2  20\n",
      "2  3  30\n",
      "3  4  40\n"
     ]
    }
   ],
   "source": [
    "import pandas as pd\n",
    "data={'A':[1,2,3,4,5],'B':[10,20,30,40,50],'C':[100,200,300,400,500]}\n",
    "df=pd.DataFrame(data)\n",
    "subset=df.iloc[1:4,0:2]\n",
    "print(subset)"
   ]
  },
  {
   "cell_type": "markdown",
   "id": "2e39ca99",
   "metadata": {},
   "source": [
    "# DataFrame Operation:"
   ]
  },
  {
   "cell_type": "markdown",
   "id": "f1e73164",
   "metadata": {},
   "source": [
    "### Value Count:\n",
    "To get the count of uniqe values in a column we use this method.It return a Series Containing Counts of unqiue values."
   ]
  },
  {
   "cell_type": "code",
   "execution_count": 11,
   "id": "fe874326",
   "metadata": {},
   "outputs": [
    {
     "name": "stdout",
     "output_type": "stream",
     "text": [
      "A    3\n",
      "B    3\n",
      "C    2\n",
      "Name: Category, dtype: int64\n"
     ]
    }
   ],
   "source": [
    "import pandas as pd\n",
    "data={'Category':['A','B','C','B','A','A','B','C']}\n",
    "df=pd.DataFrame(data)\n",
    "value_counts_sries=df['Category'].value_counts()\n",
    "print(value_counts_sries)"
   ]
  },
  {
   "cell_type": "markdown",
   "id": "bc10c3c2",
   "metadata": {},
   "source": [
    "### Apply:\n",
    "The apply() method allows you to apply a function along an axis of the DataFrame.It is useful for applying custom functions to your data."
   ]
  },
  {
   "cell_type": "code",
   "execution_count": 12,
   "id": "0baeb226",
   "metadata": {},
   "outputs": [
    {
     "name": "stdout",
     "output_type": "stream",
     "text": [
      "   Numbers  Doubled_Numbers\n",
      "0        1                2\n",
      "1        2                4\n",
      "2        3                6\n",
      "3        4                8\n",
      "4        5               10\n"
     ]
    }
   ],
   "source": [
    "import pandas as pf\n",
    "data={'Numbers':[1,2,3,4,5]}\n",
    "df=pd.DataFrame(data)\n",
    "df['Doubled_Numbers']=df['Numbers'].apply(lambda x:x*2)\n",
    "print(df)"
   ]
  },
  {
   "cell_type": "markdown",
   "id": "c562dd11",
   "metadata": {},
   "source": [
    "### Unique and Nunique:\n",
    "Unique()returns an array of unique values in  a column\n",
    "Nunique() returns the number of unique values in column."
   ]
  },
  {
   "cell_type": "code",
   "execution_count": 13,
   "id": "751bb1ae",
   "metadata": {},
   "outputs": [
    {
     "name": "stdout",
     "output_type": "stream",
     "text": [
      "['A' 'B' 'C']\n"
     ]
    }
   ],
   "source": [
    "data={'Category':['A','B','A','B','C','A','A','B','C']}\n",
    "df=pd.DataFrame(data)\n",
    "unique_value=df['Category'].unique()\n",
    "print(unique_value)"
   ]
  },
  {
   "cell_type": "code",
   "execution_count": 14,
   "id": "ce7dc914",
   "metadata": {},
   "outputs": [
    {
     "name": "stdout",
     "output_type": "stream",
     "text": [
      "3\n"
     ]
    }
   ],
   "source": [
    "data={'Category':['A','B','A','B','C','A','A','B','C']}\n",
    "df=pd.DataFrame(data)\n",
    "num_unique_value=df['Category'].nunique()\n",
    "print(num_unique_value)"
   ]
  },
  {
   "cell_type": "markdown",
   "id": "790ad33d",
   "metadata": {},
   "source": [
    "### Describe:\n",
    "The describe() method generates descriptive statistics of the DataFrame,including count,mean,std,min,max,and quartile.\n"
   ]
  },
  {
   "cell_type": "code",
   "execution_count": 16,
   "id": "eaefff64",
   "metadata": {},
   "outputs": [
    {
     "name": "stdout",
     "output_type": "stream",
     "text": [
      "A    8\n",
      "B    8\n",
      "dtype: int64\n"
     ]
    }
   ],
   "source": [
    "#Count: Returns the count of non nul values iin each column.\n",
    "data={'A':[1,2,3,None,5],'B':[10,20,30,40,50]}\n",
    "df=pd.DataFrame(data)\n",
    "count_r=df.describe().count()\n",
    "print(count_r)"
   ]
  },
  {
   "cell_type": "code",
   "execution_count": 21,
   "id": "994676b0",
   "metadata": {},
   "outputs": [
    {
     "name": "stdout",
     "output_type": "stream",
     "text": [
      "A     3.072642\n",
      "B    25.101424\n",
      "dtype: float64\n"
     ]
    }
   ],
   "source": [
    "#mean: Return Mean of each column\n",
    "data={'A':[1,2,3,4,5],'B':[10,20,30,40,50]}\n",
    "df=pd.DataFrame(data)\n",
    "mean_values=df.describe().mean()\n",
    "print(mean_values)"
   ]
  },
  {
   "cell_type": "code",
   "execution_count": 22,
   "id": "fa9b755f",
   "metadata": {},
   "outputs": [
    {
     "name": "stdout",
     "output_type": "stream",
     "text": [
      "A     1.510485\n",
      "B    15.279998\n",
      "dtype: float64\n"
     ]
    }
   ],
   "source": [
    "#Std:Return std of each column\n",
    "data={'A':[1,2,3,4,5],'B':[10,20,30,40,50]}\n",
    "df=pd.DataFrame(data)\n",
    "std_values=df.describe().std()\n",
    "print(std_values)"
   ]
  },
  {
   "cell_type": "code",
   "execution_count": 23,
   "id": "d6b1a56c",
   "metadata": {},
   "outputs": [
    {
     "name": "stdout",
     "output_type": "stream",
     "text": [
      "A    1.0\n",
      "B    5.0\n",
      "dtype: float64\n"
     ]
    }
   ],
   "source": [
    "#min:Return minimum value of each column\n",
    "data={'A':[1,2,3,4,5],'B':[10,20,30,40,50]}\n",
    "df=pd.DataFrame(data)\n",
    "min_values=df.describe().min()\n",
    "print(min_values)"
   ]
  },
  {
   "cell_type": "code",
   "execution_count": 24,
   "id": "70646b5c",
   "metadata": {},
   "outputs": [
    {
     "name": "stdout",
     "output_type": "stream",
     "text": [
      "A     5.0\n",
      "B    50.0\n",
      "dtype: float64\n"
     ]
    }
   ],
   "source": [
    "#max:Return maximum value of each column\n",
    "data={'A':[1,2,3,4,5],'B':[10,20,30,40,50]}\n",
    "df=pd.DataFrame(data)\n",
    "max_values=df.describe().max()\n",
    "print(max_values)"
   ]
  },
  {
   "cell_type": "code",
   "execution_count": 26,
   "id": "1c61d1dc",
   "metadata": {},
   "outputs": [
    {
     "name": "stdout",
     "output_type": "stream",
     "text": [
      "30.0\n",
      "50.0\n",
      "70.0\n"
     ]
    }
   ],
   "source": [
    "#quartile: \n",
    "data={'A':[10,20,30,40,50,60,70,80,90]}\n",
    "df=pd.DataFrame(data)\n",
    "q1=df['A'].quantile(0.25)\n",
    "q2=df['A'].quantile(0.50)\n",
    "q3=df['A'].quantile(0.75)\n",
    "print(q1)\n",
    "print(q2)\n",
    "print(q3)"
   ]
  },
  {
   "cell_type": "markdown",
   "id": "b66a4962",
   "metadata": {},
   "source": [
    "### Adding,Deleting,Updating Column Operation:"
   ]
  },
  {
   "cell_type": "code",
   "execution_count": 27,
   "id": "29371b68",
   "metadata": {},
   "outputs": [
    {
     "name": "stdout",
     "output_type": "stream",
     "text": [
      "   A  B  C\n",
      "0  1  4  7\n",
      "1  2  5  8\n",
      "2  3  6  9\n"
     ]
    }
   ],
   "source": [
    "#Adding:\n",
    "data={'A':[1,2,3],'B':[4,5,6]}\n",
    "df=pd.DataFrame(data)\n",
    "df['C']=[7,8,9]\n",
    "print(df)"
   ]
  },
  {
   "cell_type": "code",
   "execution_count": 29,
   "id": "406b47f5",
   "metadata": {},
   "outputs": [
    {
     "name": "stdout",
     "output_type": "stream",
     "text": [
      "   A  C\n",
      "0  1  7\n",
      "1  2  8\n",
      "2  3  9\n"
     ]
    }
   ],
   "source": [
    "#Deleting :\n",
    "data={'A':[1,2,3],'B':[4,5,6],'C':[7,8,9]}\n",
    "df=pd.DataFrame(data)\n",
    "df.drop('B',axis=1,inplace=True)\n",
    "print(df)"
   ]
  },
  {
   "cell_type": "code",
   "execution_count": 30,
   "id": "05972989",
   "metadata": {},
   "outputs": [
    {
     "name": "stdout",
     "output_type": "stream",
     "text": [
      "   A  B  C\n",
      "0  2  4  7\n",
      "1  4  5  8\n",
      "2  6  6  9\n"
     ]
    }
   ],
   "source": [
    "#Updating\n",
    "data={'A':[1,2,3],'B':[4,5,6],'C':[7,8,9]}\n",
    "df=pd.DataFrame(data)\n",
    "df['A']=df['A']*2\n",
    "print(df)"
   ]
  },
  {
   "cell_type": "markdown",
   "id": "c7bda595",
   "metadata": {},
   "source": [
    "### Index Operations:\n"
   ]
  },
  {
   "cell_type": "code",
   "execution_count": 52,
   "id": "47cdbedb",
   "metadata": {
    "collapsed": true
   },
   "outputs": [
    {
     "ename": "SyntaxError",
     "evalue": "invalid syntax (1204607721.py, line 5)",
     "output_type": "error",
     "traceback": [
      "\u001b[1;36m  File \u001b[1;32m\"C:\\Users\\HP\\AppData\\Local\\Temp\\ipykernel_23492\\1204607721.py\"\u001b[1;36m, line \u001b[1;32m5\u001b[0m\n\u001b[1;33m    print(df)\u001b[0m\n\u001b[1;37m    ^\u001b[0m\n\u001b[1;31mSyntaxError\u001b[0m\u001b[1;31m:\u001b[0m invalid syntax\n"
     ]
    }
   ],
   "source": [
    "#index Operations:\n",
    "data={'A':[1,2,3],'B':[4,5,6]}\n",
    "df=pd.DataFrame(data)\n",
    "df.set_index(pd.Index(['A'],inplace=True)\n",
    "print(df)"
   ]
  },
  {
   "cell_type": "code",
   "execution_count": 45,
   "id": "1eaca4dc",
   "metadata": {},
   "outputs": [
    {
     "name": "stdout",
     "output_type": "stream",
     "text": [
      "   A  B\n",
      "0  1  4\n",
      "1  2  5\n",
      "2  3  6\n"
     ]
    }
   ],
   "source": [
    "#Resetting the index:\n",
    "data={'A':[1,2,3],'B':[4,5,6]}\n",
    "df=pd.DataFrame(data)\n",
    "df.reset_index(drop=True,inplace=True)\n",
    "print(df)"
   ]
  },
  {
   "cell_type": "markdown",
   "id": "8ebf6fd4",
   "metadata": {},
   "source": [
    "### Arithmetic Operation"
   ]
  },
  {
   "cell_type": "code",
   "execution_count": 53,
   "id": "09f8ae12",
   "metadata": {},
   "outputs": [
    {
     "name": "stdout",
     "output_type": "stream",
     "text": [
      "    A   B\n",
      "0  11  44\n",
      "1  22  55\n",
      "2  33  66\n"
     ]
    }
   ],
   "source": [
    "#Adding two cloumns:\n",
    "data1={'A':[1,2,3],'B':[4,5,6]}\n",
    "df1=pd.DataFrame(data1)\n",
    "data2={'A':[10,20,30],'B':[40,50,60]}\n",
    "df2=pd.DataFrame(data2)\n",
    "add_result=df.add(df2)\n",
    "print(add_result)"
   ]
  },
  {
   "cell_type": "code",
   "execution_count": 54,
   "id": "1d0cbc85",
   "metadata": {},
   "outputs": [
    {
     "name": "stdout",
     "output_type": "stream",
     "text": [
      "    A   B\n",
      "0  -9 -36\n",
      "1 -18 -45\n",
      "2 -27 -54\n"
     ]
    }
   ],
   "source": [
    "#Subtraction:\n",
    "data1={'A':[1,2,3],'B':[4,5,6]}\n",
    "df1=pd.DataFrame(data1)\n",
    "data2={'A':[10,20,30],'B':[40,50,60]}\n",
    "df2=pd.DataFrame(data2)\n",
    "sub_result=df.sub(df2)\n",
    "print(sub_result)"
   ]
  },
  {
   "cell_type": "code",
   "execution_count": 55,
   "id": "a0115754",
   "metadata": {},
   "outputs": [
    {
     "name": "stdout",
     "output_type": "stream",
     "text": [
      "    A    B\n",
      "0  10  160\n",
      "1  40  250\n",
      "2  90  360\n"
     ]
    }
   ],
   "source": [
    "#multiplication:\n",
    "data1={'A':[1,2,3],'B':[4,5,6]}\n",
    "df1=pd.DataFrame(data1)\n",
    "data2={'A':[10,20,30],'B':[40,50,60]}\n",
    "df2=pd.DataFrame(data2)\n",
    "mul_result=df.mul(df2)\n",
    "print(mul_result)"
   ]
  },
  {
   "cell_type": "code",
   "execution_count": 56,
   "id": "2de2f927",
   "metadata": {},
   "outputs": [
    {
     "name": "stdout",
     "output_type": "stream",
     "text": [
      "     A    B\n",
      "0  0.1  0.1\n",
      "1  0.1  0.1\n",
      "2  0.1  0.1\n"
     ]
    }
   ],
   "source": [
    "#Division\n",
    "data1={'A':[1,2,3],'B':[4,5,6]}\n",
    "df1=pd.DataFrame(data1)\n",
    "data2={'A':[10,20,30],'B':[40,50,60]}\n",
    "df2=pd.DataFrame(data2)\n",
    "div_result=df.div(df2)\n",
    "print(div_result)"
   ]
  }
 ],
 "metadata": {
  "kernelspec": {
   "display_name": "Python 3 (ipykernel)",
   "language": "python",
   "name": "python3"
  },
  "language_info": {
   "codemirror_mode": {
    "name": "ipython",
    "version": 3
   },
   "file_extension": ".py",
   "mimetype": "text/x-python",
   "name": "python",
   "nbconvert_exporter": "python",
   "pygments_lexer": "ipython3",
   "version": "3.9.13"
  }
 },
 "nbformat": 4,
 "nbformat_minor": 5
}

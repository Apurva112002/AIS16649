{
 "cells": [
  {
   "cell_type": "markdown",
   "id": "3bebb973",
   "metadata": {},
   "source": [
    "### Pass statement in python like a placeholder that tells the computer to do nothing.its just to fill a space where python expects some code but you dont want to puth anything speacific."
   ]
  },
  {
   "cell_type": "code",
   "execution_count": 2,
   "id": "650f451e",
   "metadata": {},
   "outputs": [
    {
     "name": "stdout",
     "output_type": "stream",
     "text": [
      "x is greater than or equal to 5\n"
     ]
    }
   ],
   "source": [
    "x=6\n",
    "if x<5:\n",
    "    pass    # This part doesnt do anything right now.\n",
    "else:\n",
    "    print(\"x is greater than or equal to 5\")"
   ]
  },
  {
   "cell_type": "code",
   "execution_count": 5,
   "id": "f68f36a8",
   "metadata": {},
   "outputs": [
    {
     "name": "stdout",
     "output_type": "stream",
     "text": [
      "0\n",
      "2\n"
     ]
    }
   ],
   "source": [
    "for i in range(3):\n",
    "    \n",
    "    if i==1:\n",
    "        pass\n",
    "    else:\n",
    "        print(i)"
   ]
  },
  {
   "cell_type": "code",
   "execution_count": 9,
   "id": "5d9f7648",
   "metadata": {},
   "outputs": [],
   "source": [
    "a = 200\n",
    "b = 33\n",
    "c = 500\n",
    "if a > b and c > a:\n",
    "    pass\n"
   ]
  }
 ],
 "metadata": {
  "kernelspec": {
   "display_name": "Python 3 (ipykernel)",
   "language": "python",
   "name": "python3"
  },
  "language_info": {
   "codemirror_mode": {
    "name": "ipython",
    "version": 3
   },
   "file_extension": ".py",
   "mimetype": "text/x-python",
   "name": "python",
   "nbconvert_exporter": "python",
   "pygments_lexer": "ipython3",
   "version": "3.9.13"
  }
 },
 "nbformat": 4,
 "nbformat_minor": 5
}

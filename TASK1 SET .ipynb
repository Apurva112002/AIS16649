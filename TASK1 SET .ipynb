{
 "cells": [
  {
   "cell_type": "code",
   "execution_count": null,
   "id": "4a16e9e1",
   "metadata": {},
   "outputs": [],
   "source": [
    "#SET a)IS unorder b)Dublicate not allowed c)unchangable d)unindexed c)it written in curly bracket{}"
   ]
  },
  {
   "cell_type": "code",
   "execution_count": 1,
   "id": "ce96ab61",
   "metadata": {},
   "outputs": [
    {
     "name": "stdout",
     "output_type": "stream",
     "text": [
      "{'Banana', 'Mango', 'Apple', 'cherry'}\n"
     ]
    }
   ],
   "source": [
    "x={'Apple', 'Banana', 'Mango', 'cherry'}  #unorder and unindexed\n",
    "print(x)"
   ]
  },
  {
   "cell_type": "code",
   "execution_count": 2,
   "id": "93df06e0",
   "metadata": {},
   "outputs": [
    {
     "name": "stdout",
     "output_type": "stream",
     "text": [
      "{'Mango', 'cherry', 'Apple', 'Banana'}\n"
     ]
    }
   ],
   "source": [
    "x={'Apple', 'Banana', 'Mango', 'cherry','Mango'}  # Dublicate not allowed and unchangable\n",
    "print(x)"
   ]
  },
  {
   "cell_type": "code",
   "execution_count": 3,
   "id": "0c60a8b7",
   "metadata": {},
   "outputs": [
    {
     "name": "stdout",
     "output_type": "stream",
     "text": [
      "4\n"
     ]
    }
   ],
   "source": [
    "x={'Apple', 'Banana', 'Mango', 'cherry','Mango'} #length string\n",
    "print(len(x))"
   ]
  },
  {
   "cell_type": "code",
   "execution_count": 8,
   "id": "68259d9b",
   "metadata": {},
   "outputs": [
    {
     "name": "stdout",
     "output_type": "stream",
     "text": [
      "<class 'set'>\n",
      "<class 'int'>\n"
     ]
    }
   ],
   "source": [
    "x={\"apurva\"}  #data type\n",
    "y=123\n",
    "print(type(x))\n",
    "print(type(y))"
   ]
  },
  {
   "cell_type": "code",
   "execution_count": 3,
   "id": "fe773cd5",
   "metadata": {},
   "outputs": [
    {
     "name": "stdout",
     "output_type": "stream",
     "text": [
      "cherry\n",
      "Mango\n",
      "Apple\n",
      "Banana\n"
     ]
    }
   ],
   "source": [
    "x={'Apple', 'Banana', 'Mango', 'cherry'}  #loop\n",
    "for i in x:\n",
    "    print(i)"
   ]
  },
  {
   "cell_type": "code",
   "execution_count": 4,
   "id": "59493a3e",
   "metadata": {},
   "outputs": [
    {
     "name": "stdout",
     "output_type": "stream",
     "text": [
      "{'Banana', 'orange', 'cherry', 'Apple', 'Mango'}\n"
     ]
    }
   ],
   "source": [
    "x={'Apple', 'Banana', 'Mango', 'cherry'}  #Add\n",
    "x.add(\"orange\")\n",
    "print(x)"
   ]
  },
  {
   "cell_type": "code",
   "execution_count": 5,
   "id": "5b8a5610",
   "metadata": {},
   "outputs": [
    {
     "name": "stdout",
     "output_type": "stream",
     "text": [
      "set()\n"
     ]
    }
   ],
   "source": [
    "x={'Apple', 'Banana', 'Mango', 'cherry'} #Clear\n",
    "x.clear()\n",
    "print(x)"
   ]
  },
  {
   "cell_type": "code",
   "execution_count": 6,
   "id": "8c7e0fb6",
   "metadata": {},
   "outputs": [
    {
     "name": "stdout",
     "output_type": "stream",
     "text": [
      "{'cherry', 'Mango', 'Apple', 'Banana'}\n"
     ]
    }
   ],
   "source": [
    "f={'Apple', 'Banana', 'Mango', 'cherry'}  #Copy\n",
    "x=f.copy()\n",
    "print(x)"
   ]
  },
  {
   "cell_type": "code",
   "execution_count": 7,
   "id": "44c4a0b8",
   "metadata": {},
   "outputs": [
    {
     "name": "stdout",
     "output_type": "stream",
     "text": [
      "{'cherry', 'Mango', 'Banana'}\n"
     ]
    }
   ],
   "source": [
    "x={'Apple', 'Banana', 'Mango', 'cherry'}  # difference between two sets\n",
    "y={'apurva','yogita','maithili','Apple'}\n",
    "z=x.difference(y)\n",
    "print(z)"
   ]
  },
  {
   "cell_type": "code",
   "execution_count": 10,
   "id": "514807f4",
   "metadata": {
    "scrolled": false
   },
   "outputs": [
    {
     "name": "stdout",
     "output_type": "stream",
     "text": [
      "{'cherry', 'Mango', 'Banana'}\n"
     ]
    }
   ],
   "source": [
    "x={'Apple', 'Banana', 'Mango', 'cherry'}        # difference update between two sets\n",
    "y={'apurva','yogita','maithili','Apple'}\n",
    "x.difference_update(y)\n",
    "print(x)"
   ]
  },
  {
   "cell_type": "code",
   "execution_count": 11,
   "id": "b15c1fea",
   "metadata": {},
   "outputs": [
    {
     "name": "stdout",
     "output_type": "stream",
     "text": [
      "{'Apple'}\n"
     ]
    }
   ],
   "source": [
    "x={'Apple', 'Banana', 'Mango', 'cherry'}     #intersection similarity between two or more set\n",
    "y={'apurva','yogita','maithili','Apple'} \n",
    "z=x.intersection(y)\n",
    "print(z)"
   ]
  },
  {
   "cell_type": "code",
   "execution_count": null,
   "id": "63e4747e",
   "metadata": {},
   "outputs": [],
   "source": []
  },
  {
   "cell_type": "code",
   "execution_count": null,
   "id": "56372cb3",
   "metadata": {},
   "outputs": [],
   "source": []
  }
 ],
 "metadata": {
  "kernelspec": {
   "display_name": "Python 3 (ipykernel)",
   "language": "python",
   "name": "python3"
  },
  "language_info": {
   "codemirror_mode": {
    "name": "ipython",
    "version": 3
   },
   "file_extension": ".py",
   "mimetype": "text/x-python",
   "name": "python",
   "nbconvert_exporter": "python",
   "pygments_lexer": "ipython3",
   "version": "3.9.13"
  }
 },
 "nbformat": 4,
 "nbformat_minor": 5
}

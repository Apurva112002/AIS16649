{
 "cells": [
  {
   "cell_type": "markdown",
   "id": "2b2ecf8c",
   "metadata": {},
   "source": [
    "### Panda library: \n",
    "It is easy to manipulate and analyze data.in panda we can create data structures like series and dataFrame to work with data effcitively.it use to clean data,performing calculation and visualizing result."
   ]
  },
  {
   "cell_type": "code",
   "execution_count": 1,
   "id": "72d1417b",
   "metadata": {},
   "outputs": [],
   "source": [
    "import pandas as pd"
   ]
  },
  {
   "cell_type": "markdown",
   "id": "0c2dbac3",
   "metadata": {},
   "source": [
    "### Series:\n",
    "It is an one dimensional labeled array capable of holding any data type like int,string,floats,etc)"
   ]
  },
  {
   "cell_type": "code",
   "execution_count": 5,
   "id": "f2676940",
   "metadata": {},
   "outputs": [
    {
     "name": "stdout",
     "output_type": "stream",
     "text": [
      "0    10\n",
      "1    20\n",
      "2    30\n",
      "3    40\n",
      "4    50\n",
      "dtype: int64\n"
     ]
    }
   ],
   "source": [
    "data=[10,20,30,40,50]\n",
    "data=pd.Series(data)\n",
    "print(data)"
   ]
  },
  {
   "cell_type": "markdown",
   "id": "1af295db",
   "metadata": {},
   "source": [
    "### Operations:"
   ]
  },
  {
   "cell_type": "markdown",
   "id": "1a3b41b8",
   "metadata": {},
   "source": [
    "### Mathematical Operation:"
   ]
  },
  {
   "cell_type": "code",
   "execution_count": 7,
   "id": "c4db8c9e",
   "metadata": {},
   "outputs": [
    {
     "name": "stdout",
     "output_type": "stream",
     "text": [
      "0    11\n",
      "1    22\n",
      "2    33\n",
      "3    44\n",
      "dtype: int64\n"
     ]
    }
   ],
   "source": [
    "#Addition\n",
    "import pandas as pd\n",
    "ser1=pd.Series([1,2,3,4])\n",
    "ser2=pd.Series([10,20,30,40])\n",
    "r=ser1+ser2\n",
    "print(r)"
   ]
  },
  {
   "cell_type": "markdown",
   "id": "eb70a223",
   "metadata": {},
   "source": [
    "### Filtering Operation:"
   ]
  },
  {
   "cell_type": "code",
   "execution_count": 9,
   "id": "89ad8177",
   "metadata": {},
   "outputs": [
    {
     "name": "stdout",
     "output_type": "stream",
     "text": [
      "2    35\n",
      "3    45\n",
      "4    55\n",
      "dtype: int64\n"
     ]
    }
   ],
   "source": [
    "#Filtering: Here we can filter out specific elements based on conditions\n",
    "import pandas as pd\n",
    "ser=pd.Series([15,25,35,45,55])\n",
    "f_ser=ser[ser>30]\n",
    "print(f_ser)"
   ]
  },
  {
   "cell_type": "code",
   "execution_count": 13,
   "id": "17c8e44e",
   "metadata": {},
   "outputs": [
    {
     "name": "stdout",
     "output_type": "stream",
     "text": [
      "1    25\n",
      "2    35\n",
      "dtype: int64\n"
     ]
    }
   ],
   "source": [
    "#Filtering by Multiple Conditions.\n",
    "ser=pd.Series([15,25,35,45,55])\n",
    "f_ser=ser[(ser>20)&(ser<40)]\n",
    "print(f_ser)"
   ]
  },
  {
   "cell_type": "code",
   "execution_count": 14,
   "id": "6c1cff9b",
   "metadata": {},
   "outputs": [
    {
     "name": "stdout",
     "output_type": "stream",
     "text": [
      "0    15\n",
      "2    35\n",
      "4    55\n",
      "dtype: int64\n"
     ]
    }
   ],
   "source": [
    "#Filtering by Index\n",
    "ser=pd.Series([15,25,35,45,55])\n",
    "f_ser=ser[[0,2,4]]\n",
    "print(f_ser)"
   ]
  },
  {
   "cell_type": "code",
   "execution_count": 21,
   "id": "dd461b1b",
   "metadata": {},
   "outputs": [
    {
     "name": "stdout",
     "output_type": "stream",
     "text": [
      "0    1.0\n",
      "1    2.0\n",
      "3    3.0\n",
      "5    5.0\n",
      "dtype: float64\n"
     ]
    }
   ],
   "source": [
    "#Filtering by Null Value\n",
    "data=[1,2,None,3,None,5]\n",
    "ser=pd.Series(data)\n",
    "f_ser=ser.dropna()\n",
    "print(f_ser)"
   ]
  },
  {
   "cell_type": "code",
   "execution_count": 22,
   "id": "cb6b02e6",
   "metadata": {},
   "outputs": [
    {
     "name": "stdout",
     "output_type": "stream",
     "text": [
      "[10 20 30 40]\n"
     ]
    }
   ],
   "source": [
    "#Filtering by Unique value\n",
    "data=[10,20,30,10,20,40,30]\n",
    "ser=pd.Series(data)\n",
    "u_value=ser.unique()\n",
    "print(u_value)"
   ]
  },
  {
   "cell_type": "markdown",
   "id": "fcf7dee1",
   "metadata": {},
   "source": [
    "### Aplying functions:\n",
    "In this function apply fun to each element in thw series."
   ]
  },
  {
   "cell_type": "code",
   "execution_count": 24,
   "id": "97c8453f",
   "metadata": {},
   "outputs": [
    {
     "name": "stdout",
     "output_type": "stream",
     "text": [
      "0     2\n",
      "1     4\n",
      "2     6\n",
      "3     8\n",
      "4    10\n",
      "dtype: int64\n"
     ]
    }
   ],
   "source": [
    "import pandas as pd\n",
    "numbers=pd.Series([1,2,3,4,5])\n",
    "def double_number(x):\n",
    "    return x*2\n",
    "double_numbers=numbers.apply(double_number)\n",
    "print(double_numbers)"
   ]
  },
  {
   "cell_type": "markdown",
   "id": "d84733e0",
   "metadata": {},
   "source": [
    "### Grouping :\n",
    "In this function group data in a Series and perform operations on those group."
   ]
  },
  {
   "cell_type": "code",
   "execution_count": 26,
   "id": "e3ff0373",
   "metadata": {},
   "outputs": [
    {
     "name": "stdout",
     "output_type": "stream",
     "text": [
      "Alice:\n",
      "0    85\n",
      "2    88\n",
      "dtype: int64\n",
      "Bob:\n",
      "1    90\n",
      "3    92\n",
      "dtype: int64\n"
     ]
    }
   ],
   "source": [
    "import pandas as pd\n",
    "stu=pd.Series(['Alice','Bob','Alice','Bob'])\n",
    "grades=pd.Series([85,90,88,92])\n",
    "group_grades=grades.groupby(stu)\n",
    "for student,grade in group_grades:\n",
    "    print(student+':')\n",
    "    print(grade)"
   ]
  },
  {
   "cell_type": "markdown",
   "id": "ed97f53b",
   "metadata": {},
   "source": [
    "### Merging:\n",
    "In this method two or more Series based on common columns."
   ]
  },
  {
   "cell_type": "code",
   "execution_count": 30,
   "id": "6f32abc9",
   "metadata": {
    "collapsed": true
   },
   "outputs": [
    {
     "ename": "ValueError",
     "evalue": "Cannot merge a Series without a name",
     "output_type": "error",
     "traceback": [
      "\u001b[1;31m---------------------------------------------------------------------------\u001b[0m",
      "\u001b[1;31mValueError\u001b[0m                                Traceback (most recent call last)",
      "\u001b[1;32m~\\AppData\\Local\\Temp\\ipykernel_12412\\2990563894.py\u001b[0m in \u001b[0;36m<module>\u001b[1;34m\u001b[0m\n\u001b[0;32m      4\u001b[0m scores=pd.Series([85,90,88,92],\n\u001b[0;32m      5\u001b[0m index=['Alice','Bob','Apurva','Charlie'])\n\u001b[1;32m----> 6\u001b[1;33m \u001b[0mmerged_data\u001b[0m\u001b[1;33m=\u001b[0m\u001b[0mpd\u001b[0m\u001b[1;33m.\u001b[0m\u001b[0mmerge\u001b[0m\u001b[1;33m(\u001b[0m\u001b[0mhours_studied\u001b[0m\u001b[1;33m,\u001b[0m\u001b[0mscores\u001b[0m\u001b[1;33m,\u001b[0m\u001b[0mleft_index\u001b[0m\u001b[1;33m=\u001b[0m\u001b[1;32mTrue\u001b[0m\u001b[1;33m,\u001b[0m\u001b[0mright_index\u001b[0m\u001b[1;33m=\u001b[0m\u001b[1;32mTrue\u001b[0m\u001b[1;33m)\u001b[0m\u001b[1;33m\u001b[0m\u001b[1;33m\u001b[0m\u001b[0m\n\u001b[0m\u001b[0;32m      7\u001b[0m \u001b[0mprint\u001b[0m\u001b[1;33m(\u001b[0m\u001b[0mmerged_data\u001b[0m\u001b[1;33m)\u001b[0m\u001b[1;33m\u001b[0m\u001b[1;33m\u001b[0m\u001b[0m\n",
      "\u001b[1;32m~\\anaconda3\\lib\\site-packages\\pandas\\core\\reshape\\merge.py\u001b[0m in \u001b[0;36mmerge\u001b[1;34m(left, right, how, on, left_on, right_on, left_index, right_index, sort, suffixes, copy, indicator, validate)\u001b[0m\n\u001b[0;32m    105\u001b[0m     \u001b[0mvalidate\u001b[0m\u001b[1;33m:\u001b[0m \u001b[0mstr\u001b[0m \u001b[1;33m|\u001b[0m \u001b[1;32mNone\u001b[0m \u001b[1;33m=\u001b[0m \u001b[1;32mNone\u001b[0m\u001b[1;33m,\u001b[0m\u001b[1;33m\u001b[0m\u001b[1;33m\u001b[0m\u001b[0m\n\u001b[0;32m    106\u001b[0m ) -> DataFrame:\n\u001b[1;32m--> 107\u001b[1;33m     op = _MergeOperation(\n\u001b[0m\u001b[0;32m    108\u001b[0m         \u001b[0mleft\u001b[0m\u001b[1;33m,\u001b[0m\u001b[1;33m\u001b[0m\u001b[1;33m\u001b[0m\u001b[0m\n\u001b[0;32m    109\u001b[0m         \u001b[0mright\u001b[0m\u001b[1;33m,\u001b[0m\u001b[1;33m\u001b[0m\u001b[1;33m\u001b[0m\u001b[0m\n",
      "\u001b[1;32m~\\anaconda3\\lib\\site-packages\\pandas\\core\\reshape\\merge.py\u001b[0m in \u001b[0;36m__init__\u001b[1;34m(self, left, right, how, on, left_on, right_on, axis, left_index, right_index, sort, suffixes, copy, indicator, validate)\u001b[0m\n\u001b[0;32m    626\u001b[0m         \u001b[0mvalidate\u001b[0m\u001b[1;33m:\u001b[0m \u001b[0mstr\u001b[0m \u001b[1;33m|\u001b[0m \u001b[1;32mNone\u001b[0m \u001b[1;33m=\u001b[0m \u001b[1;32mNone\u001b[0m\u001b[1;33m,\u001b[0m\u001b[1;33m\u001b[0m\u001b[1;33m\u001b[0m\u001b[0m\n\u001b[0;32m    627\u001b[0m     ):\n\u001b[1;32m--> 628\u001b[1;33m         \u001b[0m_left\u001b[0m \u001b[1;33m=\u001b[0m \u001b[0m_validate_operand\u001b[0m\u001b[1;33m(\u001b[0m\u001b[0mleft\u001b[0m\u001b[1;33m)\u001b[0m\u001b[1;33m\u001b[0m\u001b[1;33m\u001b[0m\u001b[0m\n\u001b[0m\u001b[0;32m    629\u001b[0m         \u001b[0m_right\u001b[0m \u001b[1;33m=\u001b[0m \u001b[0m_validate_operand\u001b[0m\u001b[1;33m(\u001b[0m\u001b[0mright\u001b[0m\u001b[1;33m)\u001b[0m\u001b[1;33m\u001b[0m\u001b[1;33m\u001b[0m\u001b[0m\n\u001b[0;32m    630\u001b[0m         \u001b[0mself\u001b[0m\u001b[1;33m.\u001b[0m\u001b[0mleft\u001b[0m \u001b[1;33m=\u001b[0m \u001b[0mself\u001b[0m\u001b[1;33m.\u001b[0m\u001b[0morig_left\u001b[0m \u001b[1;33m=\u001b[0m \u001b[0m_left\u001b[0m\u001b[1;33m\u001b[0m\u001b[1;33m\u001b[0m\u001b[0m\n",
      "\u001b[1;32m~\\anaconda3\\lib\\site-packages\\pandas\\core\\reshape\\merge.py\u001b[0m in \u001b[0;36m_validate_operand\u001b[1;34m(obj)\u001b[0m\n\u001b[0;32m   2279\u001b[0m     \u001b[1;32melif\u001b[0m \u001b[0misinstance\u001b[0m\u001b[1;33m(\u001b[0m\u001b[0mobj\u001b[0m\u001b[1;33m,\u001b[0m \u001b[0mABCSeries\u001b[0m\u001b[1;33m)\u001b[0m\u001b[1;33m:\u001b[0m\u001b[1;33m\u001b[0m\u001b[1;33m\u001b[0m\u001b[0m\n\u001b[0;32m   2280\u001b[0m         \u001b[1;32mif\u001b[0m \u001b[0mobj\u001b[0m\u001b[1;33m.\u001b[0m\u001b[0mname\u001b[0m \u001b[1;32mis\u001b[0m \u001b[1;32mNone\u001b[0m\u001b[1;33m:\u001b[0m\u001b[1;33m\u001b[0m\u001b[1;33m\u001b[0m\u001b[0m\n\u001b[1;32m-> 2281\u001b[1;33m             \u001b[1;32mraise\u001b[0m \u001b[0mValueError\u001b[0m\u001b[1;33m(\u001b[0m\u001b[1;34m\"Cannot merge a Series without a name\"\u001b[0m\u001b[1;33m)\u001b[0m\u001b[1;33m\u001b[0m\u001b[1;33m\u001b[0m\u001b[0m\n\u001b[0m\u001b[0;32m   2282\u001b[0m         \u001b[1;32melse\u001b[0m\u001b[1;33m:\u001b[0m\u001b[1;33m\u001b[0m\u001b[1;33m\u001b[0m\u001b[0m\n\u001b[0;32m   2283\u001b[0m             \u001b[1;32mreturn\u001b[0m \u001b[0mobj\u001b[0m\u001b[1;33m.\u001b[0m\u001b[0mto_frame\u001b[0m\u001b[1;33m(\u001b[0m\u001b[1;33m)\u001b[0m\u001b[1;33m\u001b[0m\u001b[1;33m\u001b[0m\u001b[0m\n",
      "\u001b[1;31mValueError\u001b[0m: Cannot merge a Series without a name"
     ]
    }
   ],
   "source": [
    "import pandas as pd\n",
    "hours_studied=pd.Series([10,8,12,9],\n",
    "index=['Alice','Bob','Apurva','Charlie'])\n",
    "scores=pd.Series([85,90,88,92],\n",
    "index=['Alice','Bob','Apurva','Charlie'])\n",
    "merged_data=pd.merge(hours_studied,scores,left_index=True,right_index=True)\n",
    "print(merged_data)"
   ]
  }
 ],
 "metadata": {
  "kernelspec": {
   "display_name": "Python 3 (ipykernel)",
   "language": "python",
   "name": "python3"
  },
  "language_info": {
   "codemirror_mode": {
    "name": "ipython",
    "version": 3
   },
   "file_extension": ".py",
   "mimetype": "text/x-python",
   "name": "python",
   "nbconvert_exporter": "python",
   "pygments_lexer": "ipython3",
   "version": "3.9.13"
  }
 },
 "nbformat": 4,
 "nbformat_minor": 5
}

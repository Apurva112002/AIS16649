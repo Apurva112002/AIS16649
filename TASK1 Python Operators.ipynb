{
 "cells": [
  {
   "cell_type": "code",
   "execution_count": null,
   "id": "e4d6d4f0",
   "metadata": {},
   "outputs": [],
   "source": [
    "#1.Python Arrithmeric Operators(in this operators are used with numeric value to perform a mathamatical operation)"
   ]
  },
  {
   "cell_type": "code",
   "execution_count": 1,
   "id": "08be6818",
   "metadata": {},
   "outputs": [
    {
     "name": "stdout",
     "output_type": "stream",
     "text": [
      "15\n"
     ]
    }
   ],
   "source": [
    "#Addition\n",
    "x=10\n",
    "y= 5\n",
    "print(x+y)"
   ]
  },
  {
   "cell_type": "code",
   "execution_count": 2,
   "id": "68db028c",
   "metadata": {},
   "outputs": [
    {
     "name": "stdout",
     "output_type": "stream",
     "text": [
      "41\n"
     ]
    }
   ],
   "source": [
    "#Subtraction\n",
    "x=86\n",
    "y=45\n",
    "print(x-y)"
   ]
  },
  {
   "cell_type": "code",
   "execution_count": 3,
   "id": "ed529b90",
   "metadata": {},
   "outputs": [
    {
     "name": "stdout",
     "output_type": "stream",
     "text": [
      "125\n"
     ]
    }
   ],
   "source": [
    "#Multiplication\n",
    "x=25\n",
    "y=5\n",
    "print(x*y)"
   ]
  },
  {
   "cell_type": "code",
   "execution_count": 4,
   "id": "4486b895",
   "metadata": {},
   "outputs": [
    {
     "name": "stdout",
     "output_type": "stream",
     "text": [
      "0.6666666666666666\n"
     ]
    }
   ],
   "source": [
    "#Devistion(/)\n",
    "x=4\n",
    "y=6\n",
    "print(x/y)"
   ]
  },
  {
   "cell_type": "code",
   "execution_count": 5,
   "id": "54f88d6e",
   "metadata": {},
   "outputs": [
    {
     "name": "stdout",
     "output_type": "stream",
     "text": [
      "4\n"
     ]
    }
   ],
   "source": [
    "#Modulus(%)Reminder\n",
    "x=4\n",
    "y=6\n",
    "print(x%y)"
   ]
  },
  {
   "cell_type": "code",
   "execution_count": 6,
   "id": "c14df74a",
   "metadata": {},
   "outputs": [
    {
     "name": "stdout",
     "output_type": "stream",
     "text": [
      "4096\n"
     ]
    }
   ],
   "source": [
    "#Exponentiation(**) Ratio\n",
    "x=4\n",
    "y=6\n",
    "print(x**y)"
   ]
  },
  {
   "cell_type": "code",
   "execution_count": null,
   "id": "79466849",
   "metadata": {},
   "outputs": [],
   "source": [
    "#2.Python Comparison Operators( This is use to comparision two value it's give an output in true or false)"
   ]
  },
  {
   "cell_type": "code",
   "execution_count": 22,
   "id": "7f72905c",
   "metadata": {},
   "outputs": [
    {
     "name": "stdout",
     "output_type": "stream",
     "text": [
      "True\n"
     ]
    }
   ],
   "source": [
    "#Equal(==)\n",
    "a=4\n",
    "b=4\n",
    "print(a==b)"
   ]
  },
  {
   "cell_type": "code",
   "execution_count": 20,
   "id": "910736f2",
   "metadata": {},
   "outputs": [
    {
     "name": "stdout",
     "output_type": "stream",
     "text": [
      "True\n"
     ]
    }
   ],
   "source": [
    "#Not Equal(!=)\n",
    "a=5\n",
    "b=3\n",
    "print(a!=b)"
   ]
  },
  {
   "cell_type": "code",
   "execution_count": 23,
   "id": "442528e7",
   "metadata": {},
   "outputs": [
    {
     "name": "stdout",
     "output_type": "stream",
     "text": [
      "True\n"
     ]
    }
   ],
   "source": [
    "#Greaterthan(>)\n",
    "a=4\n",
    "b=5\n",
    "print(b>a)"
   ]
  },
  {
   "cell_type": "code",
   "execution_count": 24,
   "id": "27e0ea49",
   "metadata": {},
   "outputs": [
    {
     "name": "stdout",
     "output_type": "stream",
     "text": [
      "False\n"
     ]
    }
   ],
   "source": [
    "#lessthan(>)\n",
    "a=4\n",
    "b=5\n",
    "print(b<a)"
   ]
  },
  {
   "cell_type": "code",
   "execution_count": 25,
   "id": "fcacbd47",
   "metadata": {},
   "outputs": [
    {
     "name": "stdout",
     "output_type": "stream",
     "text": [
      "True\n"
     ]
    }
   ],
   "source": [
    "#Greaterthan Equal(>=)\n",
    "a=4\n",
    "b=5\n",
    "print(b>=a)"
   ]
  },
  {
   "cell_type": "code",
   "execution_count": 26,
   "id": "4124b426",
   "metadata": {},
   "outputs": [
    {
     "name": "stdout",
     "output_type": "stream",
     "text": [
      "False\n"
     ]
    }
   ],
   "source": [
    "#lessthan equal(>=)\n",
    "a=4\n",
    "b=5\n",
    "print(b<=a)"
   ]
  },
  {
   "cell_type": "code",
   "execution_count": null,
   "id": "770768ac",
   "metadata": {},
   "outputs": [],
   "source": [
    "#3.Python Logical Operators(This Operators are use to combine conditional Statments)"
   ]
  },
  {
   "cell_type": "code",
   "execution_count": 29,
   "id": "59889c32",
   "metadata": {},
   "outputs": [
    {
     "name": "stdout",
     "output_type": "stream",
     "text": [
      "True\n"
     ]
    }
   ],
   "source": [
    "#AND(Returns True if both statements are True)\n",
    "x=9\n",
    "print(x>3 and x<10)"
   ]
  },
  {
   "cell_type": "code",
   "execution_count": 33,
   "id": "d81b329d",
   "metadata": {},
   "outputs": [
    {
     "name": "stdout",
     "output_type": "stream",
     "text": [
      "True\n"
     ]
    }
   ],
   "source": [
    "#OR(Returns True if one statements is True)\n",
    "x=5\n",
    "print(x>4 and x<10)"
   ]
  },
  {
   "cell_type": "code",
   "execution_count": 35,
   "id": "25bcf354",
   "metadata": {},
   "outputs": [
    {
     "name": "stdout",
     "output_type": "stream",
     "text": [
      "False\n"
     ]
    }
   ],
   "source": [
    "#NOT(The Reverse Result Return False if Result is True)\n",
    "x=5\n",
    "print(not(x>3 and x<10))"
   ]
  },
  {
   "cell_type": "code",
   "execution_count": null,
   "id": "571093a4",
   "metadata": {},
   "outputs": [],
   "source": [
    "#4.Python Identily Operators"
   ]
  },
  {
   "cell_type": "code",
   "execution_count": 40,
   "id": "1319062f",
   "metadata": {},
   "outputs": [
    {
     "name": "stdout",
     "output_type": "stream",
     "text": [
      "True\n"
     ]
    }
   ],
   "source": [
    "#is(Return True if both variable are same object)\n",
    "x=['Apple','Banana','Cherry']\n",
    "y=['Apple','Banana','Cherry']\n",
    "z=y\n",
    "print(z is y) "
   ]
  },
  {
   "cell_type": "code",
   "execution_count": 41,
   "id": "e4f90824",
   "metadata": {},
   "outputs": [
    {
     "name": "stdout",
     "output_type": "stream",
     "text": [
      "False\n"
     ]
    }
   ],
   "source": [
    "print(y is x)"
   ]
  },
  {
   "cell_type": "code",
   "execution_count": 42,
   "id": "e57c309c",
   "metadata": {},
   "outputs": [
    {
     "name": "stdout",
     "output_type": "stream",
     "text": [
      "False\n"
     ]
    }
   ],
   "source": [
    "#is Not(Return True if both variables are not the same object)\n",
    "x=['Apple','Banana','Cherry']\n",
    "y=['Apple','Banana','Cherry']\n",
    "z=y\n",
    "print(z is not y) "
   ]
  },
  {
   "cell_type": "code",
   "execution_count": 44,
   "id": "93c6018a",
   "metadata": {},
   "outputs": [
    {
     "name": "stdout",
     "output_type": "stream",
     "text": [
      "True\n"
     ]
    }
   ],
   "source": [
    "print(y is not x)"
   ]
  },
  {
   "cell_type": "code",
   "execution_count": null,
   "id": "85ced4cf",
   "metadata": {},
   "outputs": [],
   "source": [
    "# 5. Python Membership Oprators(it use to test if seq is present in an object)"
   ]
  },
  {
   "cell_type": "code",
   "execution_count": 46,
   "id": "d663ee7d",
   "metadata": {},
   "outputs": [
    {
     "name": "stdout",
     "output_type": "stream",
     "text": [
      "True\n"
     ]
    }
   ],
   "source": [
    "#in (return true if a seq with spesific value is present in object)\n",
    "x=['Apple','Banana','Cherry']\n",
    "print(\"Banana\" in x)"
   ]
  },
  {
   "cell_type": "code",
   "execution_count": 48,
   "id": "0b1b8733",
   "metadata": {},
   "outputs": [
    {
     "name": "stdout",
     "output_type": "stream",
     "text": [
      "False\n"
     ]
    }
   ],
   "source": [
    "# NOT IN Return True if a seq with spesific value is not present in object)\n",
    "x=['Apple','Banana','Cherry']\n",
    "print(\"mango\" in x)"
   ]
  }
 ],
 "metadata": {
  "kernelspec": {
   "display_name": "Python 3 (ipykernel)",
   "language": "python",
   "name": "python3"
  },
  "language_info": {
   "codemirror_mode": {
    "name": "ipython",
    "version": 3
   },
   "file_extension": ".py",
   "mimetype": "text/x-python",
   "name": "python",
   "nbconvert_exporter": "python",
   "pygments_lexer": "ipython3",
   "version": "3.9.13"
  }
 },
 "nbformat": 4,
 "nbformat_minor": 5
}

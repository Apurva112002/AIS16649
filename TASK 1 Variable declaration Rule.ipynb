{
 "cells": [
  {
   "cell_type": "code",
   "execution_count": 36,
   "id": "40a0895c",
   "metadata": {},
   "outputs": [],
   "source": [
    "#string variable can be declared either by using single or double quote\n",
    "x=\"apurva\"  #double quote\n",
    "x='apurva'  #single quote"
   ]
  },
  {
   "cell_type": "code",
   "execution_count": 20,
   "id": "d43770f0",
   "metadata": {},
   "outputs": [
    {
     "data": {
      "text/plain": [
       "'apurva'"
      ]
     },
     "execution_count": 20,
     "metadata": {},
     "output_type": "execute_result"
    }
   ],
   "source": [
    "myName=\"apurva\"  #variable name must start with latter\n",
    "myName"
   ]
  },
  {
   "cell_type": "code",
   "execution_count": 53,
   "id": "fcd01272",
   "metadata": {},
   "outputs": [
    {
     "data": {
      "text/plain": [
       "'APURVA'"
      ]
     },
     "execution_count": 53,
     "metadata": {},
     "output_type": "execute_result"
    }
   ],
   "source": [
    "MYNAME=\"APURVA\"\n",
    "MYNAME"
   ]
  },
  {
   "cell_type": "code",
   "execution_count": 45,
   "id": "f8c75c9c",
   "metadata": {},
   "outputs": [
    {
     "data": {
      "text/plain": [
       "2"
      ]
     },
     "execution_count": 45,
     "metadata": {},
     "output_type": "execute_result"
    }
   ],
   "source": [
    "_var= 2   #variable name must start underscore character(_)\n",
    "_var"
   ]
  },
  {
   "cell_type": "code",
   "execution_count": 39,
   "id": "386764fd",
   "metadata": {},
   "outputs": [
    {
     "ename": "SyntaxError",
     "evalue": "invalid decimal literal (4165388336.py, line 1)",
     "output_type": "error",
     "traceback": [
      "\u001b[1;36m  File \u001b[1;32m\"C:\\Users\\HP\\AppData\\Local\\Temp\\ipykernel_19828\\4165388336.py\"\u001b[1;36m, line \u001b[1;32m1\u001b[0m\n\u001b[1;33m    2_Name=\"Hello\"  #variable name cannot  start with an numbers\u001b[0m\n\u001b[1;37m     ^\u001b[0m\n\u001b[1;31mSyntaxError\u001b[0m\u001b[1;31m:\u001b[0m invalid decimal literal\n"
     ]
    }
   ],
   "source": [
    "2_Name=\"Hello\"  #variable name cannot start with an numbers\n",
    "2_Name"
   ]
  },
  {
   "cell_type": "code",
   "execution_count": 43,
   "id": "10fa6f00",
   "metadata": {},
   "outputs": [
    {
     "data": {
      "text/plain": [
       "'Hello'"
      ]
     },
     "execution_count": 43,
     "metadata": {},
     "output_type": "execute_result"
    }
   ],
   "source": [
    " myname2='Hello' # Variable name can only contain alpha_numneric characters and underscore\n",
    "myname2"
   ]
  },
  {
   "cell_type": "code",
   "execution_count": 54,
   "id": "a9494a1b",
   "metadata": {},
   "outputs": [
    {
     "data": {
      "text/plain": [
       "'Hello'"
      ]
     },
     "execution_count": 54,
     "metadata": {},
     "output_type": "execute_result"
    }
   ],
   "source": [
    "MyName_2='Hello'\n",
    "MyName_2"
   ]
  },
  {
   "cell_type": "code",
   "execution_count": 44,
   "id": "abb01726",
   "metadata": {},
   "outputs": [
    {
     "ename": "NameError",
     "evalue": "name 'hello' is not defined",
     "output_type": "error",
     "traceback": [
      "\u001b[1;31m---------------------------------------------------------------------------\u001b[0m",
      "\u001b[1;31mNameError\u001b[0m                                 Traceback (most recent call last)",
      "\u001b[1;32m~\\AppData\\Local\\Temp\\ipykernel_19828\\1004076184.py\u001b[0m in \u001b[0;36m<module>\u001b[1;34m\u001b[0m\n\u001b[0;32m      1\u001b[0m \u001b[0mHello\u001b[0m\u001b[1;33m=\u001b[0m\u001b[1;34m\"Apurva\"\u001b[0m\u001b[1;33m\u001b[0m\u001b[1;33m\u001b[0m\u001b[0m\n\u001b[1;32m----> 2\u001b[1;33m \u001b[0mhello\u001b[0m\u001b[1;33m\u001b[0m\u001b[1;33m\u001b[0m\u001b[0m\n\u001b[0m",
      "\u001b[1;31mNameError\u001b[0m: name 'hello' is not defined"
     ]
    }
   ],
   "source": [
    "Hello=\"Apurva\"  # A variable names are case-senstive\n",
    "hello"
   ]
  },
  {
   "cell_type": "code",
   "execution_count": 55,
   "id": "2bd58c12",
   "metadata": {},
   "outputs": [
    {
     "ename": "SyntaxError",
     "evalue": "invalid syntax (3484326535.py, line 1)",
     "output_type": "error",
     "traceback": [
      "\u001b[1;36m  File \u001b[1;32m\"C:\\Users\\HP\\AppData\\Local\\Temp\\ipykernel_19828\\3484326535.py\"\u001b[1;36m, line \u001b[1;32m1\u001b[0m\n\u001b[1;33m    My name =\"Apurva\"\u001b[0m\n\u001b[1;37m       ^\u001b[0m\n\u001b[1;31mSyntaxError\u001b[0m\u001b[1;31m:\u001b[0m invalid syntax\n"
     ]
    }
   ],
   "source": [
    "My name =\"Apurva\"   # we cannot give a space between variables\n",
    "My name"
   ]
  },
  {
   "cell_type": "code",
   "execution_count": 65,
   "id": "de13356a",
   "metadata": {},
   "outputs": [
    {
     "data": {
      "text/plain": [
       "'C'"
      ]
     },
     "execution_count": 65,
     "metadata": {},
     "output_type": "execute_result"
    }
   ],
   "source": [
    "x,y,z='A','B','C'  #We can assign a multiple values to a multiple variables\n",
    "x\n",
    "y\n",
    "z"
   ]
  }
 ],
 "metadata": {
  "kernelspec": {
   "display_name": "Python 3 (ipykernel)",
   "language": "python",
   "name": "python3"
  },
  "language_info": {
   "codemirror_mode": {
    "name": "ipython",
    "version": 3
   },
   "file_extension": ".py",
   "mimetype": "text/x-python",
   "name": "python",
   "nbconvert_exporter": "python",
   "pygments_lexer": "ipython3",
   "version": "3.9.13"
  }
 },
 "nbformat": 4,
 "nbformat_minor": 5
}

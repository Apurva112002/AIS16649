{
 "cells": [
  {
   "cell_type": "markdown",
   "id": "bfb3fabb",
   "metadata": {},
   "source": [
    "### A while loop in python is type of loop that continues to execute a block of code as long as a specified condition is true.it repeatedly executes the code block untile the condition becomes false."
   ]
  },
  {
   "cell_type": "code",
   "execution_count": 1,
   "id": "83657296",
   "metadata": {},
   "outputs": [
    {
     "name": "stdout",
     "output_type": "stream",
     "text": [
      "1\n",
      "2\n",
      "3\n",
      "4\n",
      "5\n"
     ]
    }
   ],
   "source": [
    "i=1\n",
    "while i<6:\n",
    "    print(i)\n",
    "    i+=1"
   ]
  },
  {
   "cell_type": "code",
   "execution_count": 3,
   "id": "36f71929",
   "metadata": {},
   "outputs": [
    {
     "name": "stdout",
     "output_type": "stream",
     "text": [
      "1\n",
      "3\n",
      "6\n",
      "10\n",
      "15\n",
      "21\n",
      "28\n",
      "36\n",
      "45\n",
      "55\n"
     ]
    }
   ],
   "source": [
    "sum_num=0\n",
    "num=1\n",
    "while num<=10:\n",
    "    sum_num+=num\n",
    "    num+=1\n",
    "    print(sum_num)\n",
    "    "
   ]
  },
  {
   "cell_type": "code",
   "execution_count": 5,
   "id": "6e22715a",
   "metadata": {},
   "outputs": [
    {
     "name": "stdout",
     "output_type": "stream",
     "text": [
      "1\n",
      "2\n",
      "4\n",
      "8\n",
      "16\n",
      "32\n",
      "64\n",
      "128\n",
      "256\n"
     ]
    }
   ],
   "source": [
    "power=1\n",
    "while power<=256:\n",
    "    print(power)\n",
    "    power*=2"
   ]
  },
  {
   "cell_type": "code",
   "execution_count": null,
   "id": "cacab864",
   "metadata": {},
   "outputs": [
    {
     "name": "stdout",
     "output_type": "stream",
     "text": [
      "10\n",
      "5\n"
     ]
    }
   ],
   "source": [
    "number=[25,10,5,15,20]\n",
    "smallest=number[0]\n",
    "index=1\n",
    "while index<len(number):\n",
    "    if number[index]<smallest:\n",
    "        smallest=number[index]\n",
    "        index+=1\n",
    "        print(smallest)"
   ]
  },
  {
   "cell_type": "code",
   "execution_count": 2,
   "id": "7a099f40",
   "metadata": {},
   "outputs": [
    {
     "name": "stdout",
     "output_type": "stream",
     "text": [
      "97\n",
      "98\n",
      "99\n"
     ]
    }
   ],
   "source": [
    "text='abc'\n",
    "index=0\n",
    "while index<len(text):\n",
    "    print(ord(text[index]))\n",
    "    index+=1"
   ]
  },
  {
   "cell_type": "code",
   "execution_count": 1,
   "id": "2be71733",
   "metadata": {},
   "outputs": [
    {
     "name": "stdout",
     "output_type": "stream",
     "text": [
      "3\n",
      "6\n",
      "9\n",
      "12\n",
      "15\n",
      "18\n",
      "21\n",
      "24\n",
      "27\n",
      "30\n"
     ]
    }
   ],
   "source": [
    "num=1\n",
    "count=0\n",
    "while count<10:\n",
    "    print(num*3)\n",
    "    num+=1\n",
    "    count+=1"
   ]
  },
  {
   "cell_type": "code",
   "execution_count": 3,
   "id": "eabee096",
   "metadata": {},
   "outputs": [
    {
     "name": "stdout",
     "output_type": "stream",
     "text": [
      "10\n",
      "9\n",
      "8\n",
      "7\n",
      "6\n",
      "5\n",
      "4\n",
      "3\n",
      "2\n",
      "1\n"
     ]
    }
   ],
   "source": [
    "count=10\n",
    "while count>=1:\n",
    "    print(count)\n",
    "    count-=1"
   ]
  },
  {
   "cell_type": "code",
   "execution_count": 1,
   "id": "334bb5ac",
   "metadata": {},
   "outputs": [
    {
     "name": "stdout",
     "output_type": "stream",
     "text": [
      "hello\n",
      "hello\n",
      "hello\n"
     ]
    }
   ],
   "source": [
    "count=0\n",
    "while count<3:\n",
    "    print(\"hello\")\n",
    "    count+=1"
   ]
  },
  {
   "cell_type": "code",
   "execution_count": 2,
   "id": "0e1862b1",
   "metadata": {},
   "outputs": [
    {
     "name": "stdout",
     "output_type": "stream",
     "text": [
      "Enter the password:secret\n",
      "Access granted!\n"
     ]
    }
   ],
   "source": [
    "password=''\n",
    "while password!='secret':\n",
    "    password=input(\"Enter the password:\")\n",
    "    print(\"Access granted!\")"
   ]
  },
  {
   "cell_type": "code",
   "execution_count": null,
   "id": "8e9b090a",
   "metadata": {},
   "outputs": [
    {
     "name": "stdout",
     "output_type": "stream",
     "text": [
      "Enter a numbers:467\n",
      "Average: 93.4\n"
     ]
    }
   ],
   "source": [
    "total=0\n",
    "count=0\n",
    "while count<5:\n",
    "    num=int(input(\"Enter a numbers:\"))\n",
    "    total+=num\n",
    "    count+=1\n",
    "    average=total/5\n",
    "    print(\"Average:\",average)"
   ]
  }
 ],
 "metadata": {
  "kernelspec": {
   "display_name": "Python 3 (ipykernel)",
   "language": "python",
   "name": "python3"
  },
  "language_info": {
   "codemirror_mode": {
    "name": "ipython",
    "version": 3
   },
   "file_extension": ".py",
   "mimetype": "text/x-python",
   "name": "python",
   "nbconvert_exporter": "python",
   "pygments_lexer": "ipython3",
   "version": "3.9.13"
  }
 },
 "nbformat": 4,
 "nbformat_minor": 5
}

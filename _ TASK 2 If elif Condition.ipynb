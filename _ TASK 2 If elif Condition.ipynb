{
 "cells": [
  {
   "cell_type": "markdown",
   "id": "20ce3343",
   "metadata": {},
   "source": [
    "### if-elif condition is use to handle multiple conditions to check in short. elif keyword in python saying if the previous conditon were not true then try this condition."
   ]
  },
  {
   "cell_type": "code",
   "execution_count": 1,
   "id": "0faaad36",
   "metadata": {},
   "outputs": [
    {
     "name": "stdout",
     "output_type": "stream",
     "text": [
      "a and b are equal\n"
     ]
    }
   ],
   "source": [
    "a=33\n",
    "b=33\n",
    "if b>a:\n",
    "    print(\"b is grearter than a\")\n",
    "elif a==b:\n",
    "    print(\"a and b are equal\")"
   ]
  },
  {
   "cell_type": "code",
   "execution_count": 3,
   "id": "96a00ebe",
   "metadata": {},
   "outputs": [
    {
     "name": "stdout",
     "output_type": "stream",
     "text": [
      "its the middle of the week day\n"
     ]
    }
   ],
   "source": [
    "day= 'Wednesday'\n",
    "if day =='monday':\n",
    "    print('its the start of the week day')\n",
    "elif day=='Wednesday':\n",
    "    print('its the middle of the week day')\n",
    "else:\n",
    "    print('its just another day')\n"
   ]
  },
  {
   "cell_type": "code",
   "execution_count": 4,
   "id": "db958c6c",
   "metadata": {},
   "outputs": [
    {
     "name": "stdout",
     "output_type": "stream",
     "text": [
      "you are adult\n"
     ]
    }
   ],
   "source": [
    "age=20\n",
    "if age<18:\n",
    "    print(\"you are minor\")\n",
    "elif age>=18:\n",
    "    print(\"you are adult\")"
   ]
  },
  {
   "cell_type": "code",
   "execution_count": 5,
   "id": "4559c851",
   "metadata": {},
   "outputs": [
    {
     "name": "stdout",
     "output_type": "stream",
     "text": [
      "Grede B\n"
     ]
    }
   ],
   "source": [
    "score=85\n",
    "if score>=90:\n",
    "    print(\"Grede A\")\n",
    "elif score>=80:\n",
    "    print(\"Grede B\")\n",
    "elif score>=70:\n",
    "    print(\"Grede C\")\n",
    "else:\n",
    "    print(\"Grede F\")"
   ]
  },
  {
   "cell_type": "code",
   "execution_count": 36,
   "id": "71f98d00",
   "metadata": {},
   "outputs": [
    {
     "name": "stdout",
     "output_type": "stream",
     "text": [
      "x is equal to 20\n"
     ]
    }
   ],
   "source": [
    "x=10\n",
    "if x>20:\n",
    "    print(\"x is bigger than 10\")\n",
    "elif x<20:\n",
    "    print(\"x is equal to 20\")\n",
    "else:\n",
    "    print(\"x is neither bigger than 10 or eqaul to 20\")"
   ]
  },
  {
   "cell_type": "code",
   "execution_count": 37,
   "id": "0e9b8a38",
   "metadata": {},
   "outputs": [
    {
     "name": "stdout",
     "output_type": "stream",
     "text": [
      "Zero\n"
     ]
    }
   ],
   "source": [
    "num=0\n",
    "if num>0:\n",
    "    print(\"positive number\")\n",
    "elif num<0:\n",
    "    print('negative number')\n",
    "else:\n",
    "    print('Zero')\n",
    "    "
   ]
  },
  {
   "cell_type": "code",
   "execution_count": 43,
   "id": "07cbd6c0",
   "metadata": {},
   "outputs": [
    {
     "name": "stdout",
     "output_type": "stream",
     "text": [
      "Enter the price of bike7000\n",
      "tax to be paid 350.0\n"
     ]
    }
   ],
   "source": [
    "tax=0\n",
    "pr=int(input(\"Enter the price of bike\"))\n",
    "if pr>100000:\n",
    "    tax=15/100*pr\n",
    "elif pr>50000 and pr<=100000:\n",
    "    tax=10/100*pr\n",
    "else:\n",
    "    tax=5/100*pr\n",
    "    print(\"tax to be paid\", tax)\n",
    "    "
   ]
  },
  {
   "cell_type": "code",
   "execution_count": 2,
   "id": "fe443396",
   "metadata": {},
   "outputs": [
    {
     "name": "stdout",
     "output_type": "stream",
     "text": [
      "its cat\n"
     ]
    }
   ],
   "source": [
    "animal='cat'\n",
    "if animal=='dog':\n",
    "    print(\"its dog\")\n",
    "elif animal=='cat':\n",
    "    print('its cat')\n"
   ]
  },
  {
   "cell_type": "code",
   "execution_count": 3,
   "id": "df4d49fd",
   "metadata": {},
   "outputs": [
    {
     "name": "stdout",
     "output_type": "stream",
     "text": [
      "z is divisible by 3\n"
     ]
    }
   ],
   "source": [
    "z=3\n",
    "if z%2==0:\n",
    "    print(\"z is divisible by 2\")\n",
    "elif z%3==0:\n",
    "    print(\"z is divisible by 3\")"
   ]
  },
  {
   "cell_type": "code",
   "execution_count": 4,
   "id": "541d79f6",
   "metadata": {},
   "outputs": [
    {
     "name": "stdout",
     "output_type": "stream",
     "text": [
      "looking around in the bedroom\n"
     ]
    }
   ],
   "source": [
    "room='bed'\n",
    "area=14.0\n",
    "if room=='kit':\n",
    "    print(\"looking around in the kitchen\")\n",
    "elif room==\"bed\":\n",
    "    print(\"looking around in the bedroom\")"
   ]
  }
 ],
 "metadata": {
  "kernelspec": {
   "display_name": "Python 3 (ipykernel)",
   "language": "python",
   "name": "python3"
  },
  "language_info": {
   "codemirror_mode": {
    "name": "ipython",
    "version": 3
   },
   "file_extension": ".py",
   "mimetype": "text/x-python",
   "name": "python",
   "nbconvert_exporter": "python",
   "pygments_lexer": "ipython3",
   "version": "3.9.13"
  }
 },
 "nbformat": 4,
 "nbformat_minor": 5
}
